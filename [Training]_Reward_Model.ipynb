{
 "cells": [
  {
   "cell_type": "markdown",
   "id": "401ac55a",
   "metadata": {
    "id": "401ac55a"
   },
   "source": [
    "### Clone and install the repository"
   ]
  },
  {
   "cell_type": "code",
   "execution_count": null,
   "id": "RTY4VszNsbKC",
   "metadata": {
    "colab": {
     "base_uri": "https://localhost:8080/"
    },
    "executionInfo": {
     "elapsed": 19621,
     "status": "ok",
     "timestamp": 1752274475844,
     "user": {
      "displayName": "Nghe-Nhan Truong",
      "userId": "11787569011463521128"
     },
     "user_tz": -420
    },
    "id": "RTY4VszNsbKC",
    "outputId": "6ff3f338-5bba-4d0f-8596-9eee2c759d3b"
   },
   "outputs": [
    {
     "name": "stdout",
     "output_type": "stream",
     "text": [
      "Mounted at /content/drive\n"
     ]
    }
   ],
   "source": [
    "from google.colab import drive\n",
    "drive.mount('/content/drive')"
   ]
  },
  {
   "cell_type": "code",
   "execution_count": null,
   "id": "3550a6d8",
   "metadata": {
    "colab": {
     "base_uri": "https://localhost:8080/"
    },
    "executionInfo": {
     "elapsed": 1105,
     "status": "ok",
     "timestamp": 1752274486505,
     "user": {
      "displayName": "Nghe-Nhan Truong",
      "userId": "11787569011463521128"
     },
     "user_tz": -420
    },
    "id": "3550a6d8",
    "outputId": "60ded032-739f-42bf-cf7f-ef6c568088c4"
   },
   "outputs": [
    {
     "name": "stdout",
     "output_type": "stream",
     "text": [
      "Cloning into 'OpenRLHF'...\n",
      "remote: Enumerating objects: 11798, done.\u001b[K\n",
      "remote: Counting objects: 100% (427/427), done.\u001b[K\n",
      "remote: Compressing objects: 100% (134/134), done.\u001b[K\n",
      "remote: Total 11798 (delta 351), reused 293 (delta 293), pack-reused 11371 (from 3)\u001b[K\n",
      "Receiving objects: 100% (11798/11798), 2.93 MiB | 27.78 MiB/s, done.\n",
      "Resolving deltas: 100% (8684/8684), done.\n"
     ]
    }
   ],
   "source": [
    "!git clone https://github.com/OpenRLHF/OpenRLHF.git"
   ]
  },
  {
   "cell_type": "code",
   "execution_count": null,
   "id": "20aeec85",
   "metadata": {
    "colab": {
     "base_uri": "https://localhost:8080/"
    },
    "executionInfo": {
     "elapsed": 21,
     "status": "ok",
     "timestamp": 1752274488564,
     "user": {
      "displayName": "Nghe-Nhan Truong",
      "userId": "11787569011463521128"
     },
     "user_tz": -420
    },
    "id": "20aeec85",
    "outputId": "72c3702b-8ecb-4722-81ec-0d604625b281"
   },
   "outputs": [
    {
     "name": "stdout",
     "output_type": "stream",
     "text": [
      "/content/OpenRLHF\n"
     ]
    }
   ],
   "source": [
    "%cd OpenRLHF"
   ]
  },
  {
   "cell_type": "code",
   "execution_count": null,
   "id": "9f8193d4",
   "metadata": {
    "colab": {
     "base_uri": "https://localhost:8080/"
    },
    "executionInfo": {
     "elapsed": 21849,
     "status": "ok",
     "timestamp": 1752275683276,
     "user": {
      "displayName": "Nghe-Nhan Truong",
      "userId": "11787569011463521128"
     },
     "user_tz": -420
    },
    "id": "9f8193d4",
    "outputId": "dd15e525-ed65-4df6-9dd2-52753ea0af05"
   },
   "outputs": [
    {
     "name": "stdout",
     "output_type": "stream",
     "text": [
      "Requirement already satisfied: openrlhf[vllm_latest] in /usr/local/lib/python3.11/dist-packages (0.8.5)\n",
      "Requirement already satisfied: accelerate in /usr/local/lib/python3.11/dist-packages (from openrlhf[vllm_latest]) (1.8.1)\n",
      "Requirement already satisfied: bitsandbytes in /usr/local/lib/python3.11/dist-packages (from openrlhf[vllm_latest]) (0.46.1)\n",
      "Requirement already satisfied: datasets in /usr/local/lib/python3.11/dist-packages (from openrlhf[vllm_latest]) (2.14.5)\n",
      "Requirement already satisfied: deepspeed==0.17.1 in /usr/local/lib/python3.11/dist-packages (from openrlhf[vllm_latest]) (0.17.1)\n",
      "Requirement already satisfied: einops in /usr/local/lib/python3.11/dist-packages (from openrlhf[vllm_latest]) (0.8.1)\n",
      "Collecting flash-attn==2.8.0.post2 (from openrlhf[vllm_latest])\n",
      "  Using cached flash_attn-2.8.0.post2-cp311-cp311-linux_x86_64.whl\n",
      "Requirement already satisfied: isort in /usr/local/lib/python3.11/dist-packages (from openrlhf[vllm_latest]) (6.0.1)\n",
      "Requirement already satisfied: jsonlines in /usr/local/lib/python3.11/dist-packages (from openrlhf[vllm_latest]) (4.0.0)\n",
      "Requirement already satisfied: loralib in /usr/local/lib/python3.11/dist-packages (from openrlhf[vllm_latest]) (0.1.2)\n",
      "Requirement already satisfied: optimum in /usr/local/lib/python3.11/dist-packages (from openrlhf[vllm_latest]) (1.26.1)\n",
      "Requirement already satisfied: optree>=0.13.0 in /usr/local/lib/python3.11/dist-packages (from openrlhf[vllm_latest]) (0.16.0)\n",
      "Requirement already satisfied: packaging in /usr/local/lib/python3.11/dist-packages (from openrlhf[vllm_latest]) (24.2)\n",
      "Requirement already satisfied: peft in /usr/local/lib/python3.11/dist-packages (from openrlhf[vllm_latest]) (0.16.0)\n",
      "Requirement already satisfied: pynvml>=12.0.0 in /usr/local/lib/python3.11/dist-packages (from openrlhf[vllm_latest]) (12.0.0)\n",
      "Requirement already satisfied: ray==2.43.0 in /usr/local/lib/python3.11/dist-packages (from ray[default]==2.43.0->openrlhf[vllm_latest]) (2.43.0)\n",
      "Requirement already satisfied: tensorboard in /usr/local/lib/python3.11/dist-packages (from openrlhf[vllm_latest]) (2.18.0)\n",
      "Requirement already satisfied: torch in /usr/local/lib/python3.11/dist-packages (from openrlhf[vllm_latest]) (2.7.0)\n",
      "Requirement already satisfied: torchdata in /usr/local/lib/python3.11/dist-packages (from openrlhf[vllm_latest]) (0.11.0)\n",
      "Requirement already satisfied: torchmetrics in /usr/local/lib/python3.11/dist-packages (from openrlhf[vllm_latest]) (1.7.4)\n",
      "Requirement already satisfied: tqdm in /usr/local/lib/python3.11/dist-packages (from openrlhf[vllm_latest]) (4.67.1)\n",
      "Requirement already satisfied: transformers==4.52.4 in /usr/local/lib/python3.11/dist-packages (from openrlhf[vllm_latest]) (4.52.4)\n",
      "Requirement already satisfied: transformers-stream-generator in /usr/local/lib/python3.11/dist-packages (from openrlhf[vllm_latest]) (0.0.5)\n",
      "Requirement already satisfied: wandb in /usr/local/lib/python3.11/dist-packages (from openrlhf[vllm_latest]) (0.21.0)\n",
      "Requirement already satisfied: wheel in /usr/local/lib/python3.11/dist-packages (from openrlhf[vllm_latest]) (0.45.1)\n",
      "Requirement already satisfied: vllm>0.9.1 in /usr/local/lib/python3.11/dist-packages (from openrlhf[vllm_latest]) (0.9.2)\n",
      "Requirement already satisfied: hjson in /usr/local/lib/python3.11/dist-packages (from deepspeed==0.17.1->openrlhf[vllm_latest]) (3.1.0)\n",
      "Requirement already satisfied: msgpack in /usr/local/lib/python3.11/dist-packages (from deepspeed==0.17.1->openrlhf[vllm_latest]) (1.1.1)\n",
      "Requirement already satisfied: ninja in /usr/local/lib/python3.11/dist-packages (from deepspeed==0.17.1->openrlhf[vllm_latest]) (1.11.1.4)\n",
      "Requirement already satisfied: numpy in /usr/local/lib/python3.11/dist-packages (from deepspeed==0.17.1->openrlhf[vllm_latest]) (2.0.2)\n",
      "Requirement already satisfied: psutil in /usr/local/lib/python3.11/dist-packages (from deepspeed==0.17.1->openrlhf[vllm_latest]) (5.9.5)\n",
      "Requirement already satisfied: py-cpuinfo in /usr/local/lib/python3.11/dist-packages (from deepspeed==0.17.1->openrlhf[vllm_latest]) (9.0.0)\n",
      "Requirement already satisfied: pydantic>=2.0.0 in /usr/local/lib/python3.11/dist-packages (from deepspeed==0.17.1->openrlhf[vllm_latest]) (2.11.7)\n",
      "Requirement already satisfied: nvidia-ml-py in /usr/local/lib/python3.11/dist-packages (from deepspeed==0.17.1->openrlhf[vllm_latest]) (12.575.51)\n",
      "Requirement already satisfied: click>=7.0 in /usr/local/lib/python3.11/dist-packages (from ray==2.43.0->ray[default]==2.43.0->openrlhf[vllm_latest]) (8.2.1)\n",
      "Requirement already satisfied: filelock in /usr/local/lib/python3.11/dist-packages (from ray==2.43.0->ray[default]==2.43.0->openrlhf[vllm_latest]) (3.18.0)\n",
      "Requirement already satisfied: jsonschema in /usr/local/lib/python3.11/dist-packages (from ray==2.43.0->ray[default]==2.43.0->openrlhf[vllm_latest]) (4.24.0)\n",
      "Requirement already satisfied: protobuf!=3.19.5,>=3.15.3 in /usr/local/lib/python3.11/dist-packages (from ray==2.43.0->ray[default]==2.43.0->openrlhf[vllm_latest]) (5.29.5)\n",
      "Requirement already satisfied: pyyaml in /usr/local/lib/python3.11/dist-packages (from ray==2.43.0->ray[default]==2.43.0->openrlhf[vllm_latest]) (6.0.2)\n",
      "Requirement already satisfied: aiosignal in /usr/local/lib/python3.11/dist-packages (from ray==2.43.0->ray[default]==2.43.0->openrlhf[vllm_latest]) (1.4.0)\n",
      "Requirement already satisfied: frozenlist in /usr/local/lib/python3.11/dist-packages (from ray==2.43.0->ray[default]==2.43.0->openrlhf[vllm_latest]) (1.7.0)\n",
      "Requirement already satisfied: requests in /usr/local/lib/python3.11/dist-packages (from ray==2.43.0->ray[default]==2.43.0->openrlhf[vllm_latest]) (2.32.3)\n",
      "Requirement already satisfied: aiohttp>=3.7 in /usr/local/lib/python3.11/dist-packages (from ray[default]==2.43.0->openrlhf[vllm_latest]) (3.11.15)\n",
      "Requirement already satisfied: aiohttp_cors in /usr/local/lib/python3.11/dist-packages (from ray[default]==2.43.0->openrlhf[vllm_latest]) (0.8.1)\n",
      "Requirement already satisfied: colorful in /usr/local/lib/python3.11/dist-packages (from ray[default]==2.43.0->openrlhf[vllm_latest]) (0.5.7)\n",
      "Requirement already satisfied: py-spy>=0.2.0 in /usr/local/lib/python3.11/dist-packages (from ray[default]==2.43.0->openrlhf[vllm_latest]) (0.4.0)\n",
      "Requirement already satisfied: grpcio>=1.42.0 in /usr/local/lib/python3.11/dist-packages (from ray[default]==2.43.0->openrlhf[vllm_latest]) (1.73.1)\n",
      "Requirement already satisfied: opencensus in /usr/local/lib/python3.11/dist-packages (from ray[default]==2.43.0->openrlhf[vllm_latest]) (0.11.4)\n",
      "Requirement already satisfied: prometheus_client>=0.7.1 in /usr/local/lib/python3.11/dist-packages (from ray[default]==2.43.0->openrlhf[vllm_latest]) (0.22.1)\n",
      "Requirement already satisfied: smart_open in /usr/local/lib/python3.11/dist-packages (from ray[default]==2.43.0->openrlhf[vllm_latest]) (7.3.0.post1)\n",
      "Requirement already satisfied: virtualenv!=20.21.1,>=20.0.24 in /usr/local/lib/python3.11/dist-packages (from ray[default]==2.43.0->openrlhf[vllm_latest]) (20.31.2)\n",
      "Requirement already satisfied: huggingface-hub<1.0,>=0.30.0 in /usr/local/lib/python3.11/dist-packages (from transformers==4.52.4->openrlhf[vllm_latest]) (0.33.2)\n",
      "Requirement already satisfied: regex!=2019.12.17 in /usr/local/lib/python3.11/dist-packages (from transformers==4.52.4->openrlhf[vllm_latest]) (2024.11.6)\n",
      "Requirement already satisfied: tokenizers<0.22,>=0.21 in /usr/local/lib/python3.11/dist-packages (from transformers==4.52.4->openrlhf[vllm_latest]) (0.21.2)\n",
      "Requirement already satisfied: safetensors>=0.4.3 in /usr/local/lib/python3.11/dist-packages (from transformers==4.52.4->openrlhf[vllm_latest]) (0.5.3)\n",
      "Requirement already satisfied: typing-extensions>=4.6.0 in /usr/local/lib/python3.11/dist-packages (from optree>=0.13.0->openrlhf[vllm_latest]) (4.14.1)\n",
      "Requirement already satisfied: cachetools in /usr/local/lib/python3.11/dist-packages (from vllm>0.9.1->openrlhf[vllm_latest]) (5.5.2)\n",
      "Requirement already satisfied: sentencepiece in /usr/local/lib/python3.11/dist-packages (from vllm>0.9.1->openrlhf[vllm_latest]) (0.2.0)\n",
      "Requirement already satisfied: blake3 in /usr/local/lib/python3.11/dist-packages (from vllm>0.9.1->openrlhf[vllm_latest]) (1.0.5)\n",
      "Requirement already satisfied: fastapi>=0.115.0 in /usr/local/lib/python3.11/dist-packages (from fastapi[standard]>=0.115.0->vllm>0.9.1->openrlhf[vllm_latest]) (0.116.0)\n",
      "Requirement already satisfied: openai<=1.90.0,>=1.52.0 in /usr/local/lib/python3.11/dist-packages (from vllm>0.9.1->openrlhf[vllm_latest]) (1.90.0)\n",
      "Requirement already satisfied: pillow in /usr/local/lib/python3.11/dist-packages (from vllm>0.9.1->openrlhf[vllm_latest]) (11.2.1)\n",
      "Requirement already satisfied: prometheus-fastapi-instrumentator>=7.0.0 in /usr/local/lib/python3.11/dist-packages (from vllm>0.9.1->openrlhf[vllm_latest]) (7.1.0)\n",
      "Requirement already satisfied: tiktoken>=0.6.0 in /usr/local/lib/python3.11/dist-packages (from vllm>0.9.1->openrlhf[vllm_latest]) (0.9.0)\n",
      "Requirement already satisfied: lm-format-enforcer<0.11,>=0.10.11 in /usr/local/lib/python3.11/dist-packages (from vllm>0.9.1->openrlhf[vllm_latest]) (0.10.11)\n",
      "Requirement already satisfied: llguidance<0.8.0,>=0.7.11 in /usr/local/lib/python3.11/dist-packages (from vllm>0.9.1->openrlhf[vllm_latest]) (0.7.30)\n",
      "Requirement already satisfied: outlines==0.1.11 in /usr/local/lib/python3.11/dist-packages (from vllm>0.9.1->openrlhf[vllm_latest]) (0.1.11)\n",
      "Requirement already satisfied: lark==1.2.2 in /usr/local/lib/python3.11/dist-packages (from vllm>0.9.1->openrlhf[vllm_latest]) (1.2.2)\n",
      "Requirement already satisfied: xgrammar==0.1.19 in /usr/local/lib/python3.11/dist-packages (from vllm>0.9.1->openrlhf[vllm_latest]) (0.1.19)\n",
      "Requirement already satisfied: partial-json-parser in /usr/local/lib/python3.11/dist-packages (from vllm>0.9.1->openrlhf[vllm_latest]) (0.2.1.1.post6)\n",
      "Requirement already satisfied: pyzmq>=25.0.0 in /usr/local/lib/python3.11/dist-packages (from vllm>0.9.1->openrlhf[vllm_latest]) (27.0.0)\n",
      "Requirement already satisfied: msgspec in /usr/local/lib/python3.11/dist-packages (from vllm>0.9.1->openrlhf[vllm_latest]) (0.19.0)\n",
      "Requirement already satisfied: gguf>=0.13.0 in /usr/local/lib/python3.11/dist-packages (from vllm>0.9.1->openrlhf[vllm_latest]) (0.17.1)\n",
      "Requirement already satisfied: mistral_common>=1.6.2 in /usr/local/lib/python3.11/dist-packages (from mistral_common[opencv]>=1.6.2->vllm>0.9.1->openrlhf[vllm_latest]) (1.7.0)\n",
      "Requirement already satisfied: opencv-python-headless>=4.11.0 in /usr/local/lib/python3.11/dist-packages (from vllm>0.9.1->openrlhf[vllm_latest]) (4.12.0.88)\n",
      "Requirement already satisfied: compressed-tensors==0.10.2 in /usr/local/lib/python3.11/dist-packages (from vllm>0.9.1->openrlhf[vllm_latest]) (0.10.2)\n",
      "Requirement already satisfied: depyf==0.18.0 in /usr/local/lib/python3.11/dist-packages (from vllm>0.9.1->openrlhf[vllm_latest]) (0.18.0)\n",
      "Requirement already satisfied: cloudpickle in /usr/local/lib/python3.11/dist-packages (from vllm>0.9.1->openrlhf[vllm_latest]) (3.1.1)\n",
      "Requirement already satisfied: watchfiles in /usr/local/lib/python3.11/dist-packages (from vllm>0.9.1->openrlhf[vllm_latest]) (1.1.0)\n",
      "Requirement already satisfied: python-json-logger in /usr/local/lib/python3.11/dist-packages (from vllm>0.9.1->openrlhf[vllm_latest]) (3.3.0)\n",
      "Requirement already satisfied: scipy in /usr/local/lib/python3.11/dist-packages (from vllm>0.9.1->openrlhf[vllm_latest]) (1.15.3)\n",
      "Requirement already satisfied: pybase64 in /usr/local/lib/python3.11/dist-packages (from vllm>0.9.1->openrlhf[vllm_latest]) (1.4.1)\n",
      "Requirement already satisfied: numba==0.61.2 in /usr/local/lib/python3.11/dist-packages (from vllm>0.9.1->openrlhf[vllm_latest]) (0.61.2)\n",
      "Requirement already satisfied: torchaudio==2.7.0 in /usr/local/lib/python3.11/dist-packages (from vllm>0.9.1->openrlhf[vllm_latest]) (2.7.0)\n",
      "Requirement already satisfied: torchvision==0.22.0 in /usr/local/lib/python3.11/dist-packages (from vllm>0.9.1->openrlhf[vllm_latest]) (0.22.0)\n",
      "Requirement already satisfied: xformers==0.0.30 in /usr/local/lib/python3.11/dist-packages (from vllm>0.9.1->openrlhf[vllm_latest]) (0.0.30)\n",
      "Requirement already satisfied: sympy>=1.13.3 in /usr/local/lib/python3.11/dist-packages (from torch->openrlhf[vllm_latest]) (1.14.0)\n",
      "Requirement already satisfied: networkx in /usr/local/lib/python3.11/dist-packages (from torch->openrlhf[vllm_latest]) (3.5)\n",
      "Requirement already satisfied: jinja2 in /usr/local/lib/python3.11/dist-packages (from torch->openrlhf[vllm_latest]) (3.1.6)\n",
      "Requirement already satisfied: fsspec in /usr/local/lib/python3.11/dist-packages (from torch->openrlhf[vllm_latest]) (2023.6.0)\n",
      "Requirement already satisfied: nvidia-cuda-nvrtc-cu12==12.6.77 in /usr/local/lib/python3.11/dist-packages (from torch->openrlhf[vllm_latest]) (12.6.77)\n",
      "Requirement already satisfied: nvidia-cuda-runtime-cu12==12.6.77 in /usr/local/lib/python3.11/dist-packages (from torch->openrlhf[vllm_latest]) (12.6.77)\n",
      "Requirement already satisfied: nvidia-cuda-cupti-cu12==12.6.80 in /usr/local/lib/python3.11/dist-packages (from torch->openrlhf[vllm_latest]) (12.6.80)\n",
      "Requirement already satisfied: nvidia-cudnn-cu12==9.5.1.17 in /usr/local/lib/python3.11/dist-packages (from torch->openrlhf[vllm_latest]) (9.5.1.17)\n",
      "Requirement already satisfied: nvidia-cublas-cu12==12.6.4.1 in /usr/local/lib/python3.11/dist-packages (from torch->openrlhf[vllm_latest]) (12.6.4.1)\n",
      "Requirement already satisfied: nvidia-cufft-cu12==11.3.0.4 in /usr/local/lib/python3.11/dist-packages (from torch->openrlhf[vllm_latest]) (11.3.0.4)\n",
      "Requirement already satisfied: nvidia-curand-cu12==10.3.7.77 in /usr/local/lib/python3.11/dist-packages (from torch->openrlhf[vllm_latest]) (10.3.7.77)\n",
      "Requirement already satisfied: nvidia-cusolver-cu12==11.7.1.2 in /usr/local/lib/python3.11/dist-packages (from torch->openrlhf[vllm_latest]) (11.7.1.2)\n",
      "Requirement already satisfied: nvidia-cusparse-cu12==12.5.4.2 in /usr/local/lib/python3.11/dist-packages (from torch->openrlhf[vllm_latest]) (12.5.4.2)\n",
      "Requirement already satisfied: nvidia-cusparselt-cu12==0.6.3 in /usr/local/lib/python3.11/dist-packages (from torch->openrlhf[vllm_latest]) (0.6.3)\n",
      "Requirement already satisfied: nvidia-nccl-cu12==2.26.2 in /usr/local/lib/python3.11/dist-packages (from torch->openrlhf[vllm_latest]) (2.26.2)\n",
      "Requirement already satisfied: nvidia-nvtx-cu12==12.6.77 in /usr/local/lib/python3.11/dist-packages (from torch->openrlhf[vllm_latest]) (12.6.77)\n",
      "Requirement already satisfied: nvidia-nvjitlink-cu12==12.6.85 in /usr/local/lib/python3.11/dist-packages (from torch->openrlhf[vllm_latest]) (12.6.85)\n",
      "Requirement already satisfied: nvidia-cufile-cu12==1.11.1.6 in /usr/local/lib/python3.11/dist-packages (from torch->openrlhf[vllm_latest]) (1.11.1.6)\n",
      "Requirement already satisfied: triton==3.3.0 in /usr/local/lib/python3.11/dist-packages (from torch->openrlhf[vllm_latest]) (3.3.0)\n",
      "Requirement already satisfied: astor in /usr/local/lib/python3.11/dist-packages (from depyf==0.18.0->vllm>0.9.1->openrlhf[vllm_latest]) (0.8.1)\n",
      "Requirement already satisfied: dill in /usr/local/lib/python3.11/dist-packages (from depyf==0.18.0->vllm>0.9.1->openrlhf[vllm_latest]) (0.3.7)\n",
      "Requirement already satisfied: llvmlite<0.45,>=0.44.0dev0 in /usr/local/lib/python3.11/dist-packages (from numba==0.61.2->vllm>0.9.1->openrlhf[vllm_latest]) (0.44.0)\n",
      "Requirement already satisfied: interegular in /usr/local/lib/python3.11/dist-packages (from outlines==0.1.11->vllm>0.9.1->openrlhf[vllm_latest]) (0.3.3)\n",
      "Requirement already satisfied: nest_asyncio in /usr/local/lib/python3.11/dist-packages (from outlines==0.1.11->vllm>0.9.1->openrlhf[vllm_latest]) (1.6.0)\n",
      "Requirement already satisfied: diskcache in /usr/local/lib/python3.11/dist-packages (from outlines==0.1.11->vllm>0.9.1->openrlhf[vllm_latest]) (5.6.3)\n",
      "Requirement already satisfied: referencing in /usr/local/lib/python3.11/dist-packages (from outlines==0.1.11->vllm>0.9.1->openrlhf[vllm_latest]) (0.36.2)\n",
      "Requirement already satisfied: pycountry in /usr/local/lib/python3.11/dist-packages (from outlines==0.1.11->vllm>0.9.1->openrlhf[vllm_latest]) (24.6.1)\n",
      "Requirement already satisfied: airportsdata in /usr/local/lib/python3.11/dist-packages (from outlines==0.1.11->vllm>0.9.1->openrlhf[vllm_latest]) (20250706)\n",
      "Requirement already satisfied: outlines_core==0.1.26 in /usr/local/lib/python3.11/dist-packages (from outlines==0.1.11->vllm>0.9.1->openrlhf[vllm_latest]) (0.1.26)\n",
      "Requirement already satisfied: setuptools>=40.8.0 in /usr/local/lib/python3.11/dist-packages (from triton==3.3.0->torch->openrlhf[vllm_latest]) (75.2.0)\n",
      "Requirement already satisfied: pyarrow>=8.0.0 in /usr/local/lib/python3.11/dist-packages (from datasets->openrlhf[vllm_latest]) (18.1.0)\n",
      "Requirement already satisfied: pandas in /usr/local/lib/python3.11/dist-packages (from datasets->openrlhf[vllm_latest]) (2.2.2)\n",
      "Requirement already satisfied: xxhash in /usr/local/lib/python3.11/dist-packages (from datasets->openrlhf[vllm_latest]) (3.5.0)\n",
      "Requirement already satisfied: multiprocess in /usr/local/lib/python3.11/dist-packages (from datasets->openrlhf[vllm_latest]) (0.70.15)\n",
      "Requirement already satisfied: attrs>=19.2.0 in /usr/local/lib/python3.11/dist-packages (from jsonlines->openrlhf[vllm_latest]) (25.3.0)\n",
      "Requirement already satisfied: absl-py>=0.4 in /usr/local/lib/python3.11/dist-packages (from tensorboard->openrlhf[vllm_latest]) (1.4.0)\n",
      "Requirement already satisfied: markdown>=2.6.8 in /usr/local/lib/python3.11/dist-packages (from tensorboard->openrlhf[vllm_latest]) (3.8.2)\n",
      "Requirement already satisfied: six>1.9 in /usr/local/lib/python3.11/dist-packages (from tensorboard->openrlhf[vllm_latest]) (1.17.0)\n",
      "Requirement already satisfied: tensorboard-data-server<0.8.0,>=0.7.0 in /usr/local/lib/python3.11/dist-packages (from tensorboard->openrlhf[vllm_latest]) (0.7.2)\n",
      "Requirement already satisfied: werkzeug>=1.0.1 in /usr/local/lib/python3.11/dist-packages (from tensorboard->openrlhf[vllm_latest]) (3.1.3)\n",
      "Requirement already satisfied: urllib3>=1.25 in /usr/local/lib/python3.11/dist-packages (from torchdata->openrlhf[vllm_latest]) (2.4.0)\n",
      "Requirement already satisfied: lightning-utilities>=0.8.0 in /usr/local/lib/python3.11/dist-packages (from torchmetrics->openrlhf[vllm_latest]) (0.14.3)\n",
      "Requirement already satisfied: gitpython!=3.1.29,>=1.0.0 in /usr/local/lib/python3.11/dist-packages (from wandb->openrlhf[vllm_latest]) (3.1.44)\n",
      "Requirement already satisfied: platformdirs in /usr/local/lib/python3.11/dist-packages (from wandb->openrlhf[vllm_latest]) (4.3.8)\n",
      "Requirement already satisfied: sentry-sdk>=2.0.0 in /usr/local/lib/python3.11/dist-packages (from wandb->openrlhf[vllm_latest]) (2.32.0)\n",
      "Requirement already satisfied: aiohappyeyeballs>=2.3.0 in /usr/local/lib/python3.11/dist-packages (from aiohttp>=3.7->ray[default]==2.43.0->openrlhf[vllm_latest]) (2.6.1)\n",
      "Requirement already satisfied: multidict<7.0,>=4.5 in /usr/local/lib/python3.11/dist-packages (from aiohttp>=3.7->ray[default]==2.43.0->openrlhf[vllm_latest]) (6.6.3)\n",
      "Requirement already satisfied: propcache>=0.2.0 in /usr/local/lib/python3.11/dist-packages (from aiohttp>=3.7->ray[default]==2.43.0->openrlhf[vllm_latest]) (0.3.2)\n",
      "Requirement already satisfied: yarl<2.0,>=1.17.0 in /usr/local/lib/python3.11/dist-packages (from aiohttp>=3.7->ray[default]==2.43.0->openrlhf[vllm_latest]) (1.20.1)\n",
      "Requirement already satisfied: starlette<0.47.0,>=0.40.0 in /usr/local/lib/python3.11/dist-packages (from fastapi>=0.115.0->fastapi[standard]>=0.115.0->vllm>0.9.1->openrlhf[vllm_latest]) (0.46.2)\n",
      "Requirement already satisfied: fastapi-cli>=0.0.8 in /usr/local/lib/python3.11/dist-packages (from fastapi-cli[standard]>=0.0.8; extra == \"standard\"->fastapi[standard]>=0.115.0->vllm>0.9.1->openrlhf[vllm_latest]) (0.0.8)\n",
      "Requirement already satisfied: httpx>=0.23.0 in /usr/local/lib/python3.11/dist-packages (from fastapi[standard]>=0.115.0->vllm>0.9.1->openrlhf[vllm_latest]) (0.28.1)\n",
      "Requirement already satisfied: python-multipart>=0.0.18 in /usr/local/lib/python3.11/dist-packages (from fastapi[standard]>=0.115.0->vllm>0.9.1->openrlhf[vllm_latest]) (0.0.20)\n",
      "Requirement already satisfied: email-validator>=2.0.0 in /usr/local/lib/python3.11/dist-packages (from fastapi[standard]>=0.115.0->vllm>0.9.1->openrlhf[vllm_latest]) (2.2.0)\n",
      "Requirement already satisfied: uvicorn>=0.12.0 in /usr/local/lib/python3.11/dist-packages (from uvicorn[standard]>=0.12.0; extra == \"standard\"->fastapi[standard]>=0.115.0->vllm>0.9.1->openrlhf[vllm_latest]) (0.35.0)\n",
      "Requirement already satisfied: gitdb<5,>=4.0.1 in /usr/local/lib/python3.11/dist-packages (from gitpython!=3.1.29,>=1.0.0->wandb->openrlhf[vllm_latest]) (4.0.12)\n",
      "Requirement already satisfied: hf-xet<2.0.0,>=1.1.2 in /usr/local/lib/python3.11/dist-packages (from huggingface-hub<1.0,>=0.30.0->transformers==4.52.4->openrlhf[vllm_latest]) (1.1.5)\n",
      "Requirement already satisfied: MarkupSafe>=2.0 in /usr/local/lib/python3.11/dist-packages (from jinja2->torch->openrlhf[vllm_latest]) (3.0.2)\n",
      "Requirement already satisfied: jsonschema-specifications>=2023.03.6 in /usr/local/lib/python3.11/dist-packages (from jsonschema->ray==2.43.0->ray[default]==2.43.0->openrlhf[vllm_latest]) (2025.4.1)\n",
      "Requirement already satisfied: rpds-py>=0.7.1 in /usr/local/lib/python3.11/dist-packages (from jsonschema->ray==2.43.0->ray[default]==2.43.0->openrlhf[vllm_latest]) (0.26.0)\n",
      "Requirement already satisfied: anyio<5,>=3.5.0 in /usr/local/lib/python3.11/dist-packages (from openai<=1.90.0,>=1.52.0->vllm>0.9.1->openrlhf[vllm_latest]) (4.9.0)\n",
      "Requirement already satisfied: distro<2,>=1.7.0 in /usr/local/lib/python3.11/dist-packages (from openai<=1.90.0,>=1.52.0->vllm>0.9.1->openrlhf[vllm_latest]) (1.9.0)\n",
      "Requirement already satisfied: jiter<1,>=0.4.0 in /usr/local/lib/python3.11/dist-packages (from openai<=1.90.0,>=1.52.0->vllm>0.9.1->openrlhf[vllm_latest]) (0.10.0)\n",
      "Requirement already satisfied: sniffio in /usr/local/lib/python3.11/dist-packages (from openai<=1.90.0,>=1.52.0->vllm>0.9.1->openrlhf[vllm_latest]) (1.3.1)\n",
      "Requirement already satisfied: annotated-types>=0.6.0 in /usr/local/lib/python3.11/dist-packages (from pydantic>=2.0.0->deepspeed==0.17.1->openrlhf[vllm_latest]) (0.7.0)\n",
      "Requirement already satisfied: pydantic-core==2.33.2 in /usr/local/lib/python3.11/dist-packages (from pydantic>=2.0.0->deepspeed==0.17.1->openrlhf[vllm_latest]) (2.33.2)\n",
      "Requirement already satisfied: typing-inspection>=0.4.0 in /usr/local/lib/python3.11/dist-packages (from pydantic>=2.0.0->deepspeed==0.17.1->openrlhf[vllm_latest]) (0.4.1)\n",
      "Requirement already satisfied: cupy-cuda12x in /usr/local/lib/python3.11/dist-packages (from ray==2.43.0->ray[default]==2.43.0->openrlhf[vllm_latest]) (13.3.0)\n",
      "Requirement already satisfied: charset-normalizer<4,>=2 in /usr/local/lib/python3.11/dist-packages (from requests->ray==2.43.0->ray[default]==2.43.0->openrlhf[vllm_latest]) (3.4.2)\n",
      "Requirement already satisfied: idna<4,>=2.5 in /usr/local/lib/python3.11/dist-packages (from requests->ray==2.43.0->ray[default]==2.43.0->openrlhf[vllm_latest]) (3.10)\n",
      "Requirement already satisfied: certifi>=2017.4.17 in /usr/local/lib/python3.11/dist-packages (from requests->ray==2.43.0->ray[default]==2.43.0->openrlhf[vllm_latest]) (2025.7.9)\n",
      "Requirement already satisfied: mpmath<1.4,>=1.1.0 in /usr/local/lib/python3.11/dist-packages (from sympy>=1.13.3->torch->openrlhf[vllm_latest]) (1.3.0)\n",
      "Requirement already satisfied: distlib<1,>=0.3.7 in /usr/local/lib/python3.11/dist-packages (from virtualenv!=20.21.1,>=20.0.24->ray[default]==2.43.0->openrlhf[vllm_latest]) (0.3.9)\n",
      "Requirement already satisfied: opencensus-context>=0.1.3 in /usr/local/lib/python3.11/dist-packages (from opencensus->ray[default]==2.43.0->openrlhf[vllm_latest]) (0.1.3)\n",
      "Requirement already satisfied: google-api-core<3.0.0,>=1.0.0 in /usr/local/lib/python3.11/dist-packages (from opencensus->ray[default]==2.43.0->openrlhf[vllm_latest]) (2.25.1)\n",
      "Requirement already satisfied: python-dateutil>=2.8.2 in /usr/local/lib/python3.11/dist-packages (from pandas->datasets->openrlhf[vllm_latest]) (2.9.0.post0)\n",
      "Requirement already satisfied: pytz>=2020.1 in /usr/local/lib/python3.11/dist-packages (from pandas->datasets->openrlhf[vllm_latest]) (2025.2)\n",
      "Requirement already satisfied: tzdata>=2022.7 in /usr/local/lib/python3.11/dist-packages (from pandas->datasets->openrlhf[vllm_latest]) (2025.2)\n",
      "Requirement already satisfied: wrapt in /usr/local/lib/python3.11/dist-packages (from smart_open->ray[default]==2.43.0->openrlhf[vllm_latest]) (1.17.2)\n",
      "Requirement already satisfied: dnspython>=2.0.0 in /usr/local/lib/python3.11/dist-packages (from email-validator>=2.0.0->fastapi[standard]>=0.115.0->vllm>0.9.1->openrlhf[vllm_latest]) (2.7.0)\n",
      "Requirement already satisfied: typer>=0.15.1 in /usr/local/lib/python3.11/dist-packages (from fastapi-cli>=0.0.8->fastapi-cli[standard]>=0.0.8; extra == \"standard\"->fastapi[standard]>=0.115.0->vllm>0.9.1->openrlhf[vllm_latest]) (0.16.0)\n",
      "Requirement already satisfied: rich-toolkit>=0.14.8 in /usr/local/lib/python3.11/dist-packages (from fastapi-cli>=0.0.8->fastapi-cli[standard]>=0.0.8; extra == \"standard\"->fastapi[standard]>=0.115.0->vllm>0.9.1->openrlhf[vllm_latest]) (0.14.8)\n",
      "Requirement already satisfied: fastapi-cloud-cli>=0.1.1 in /usr/local/lib/python3.11/dist-packages (from fastapi-cli[standard]>=0.0.8; extra == \"standard\"->fastapi[standard]>=0.115.0->vllm>0.9.1->openrlhf[vllm_latest]) (0.1.4)\n",
      "Requirement already satisfied: smmap<6,>=3.0.1 in /usr/local/lib/python3.11/dist-packages (from gitdb<5,>=4.0.1->gitpython!=3.1.29,>=1.0.0->wandb->openrlhf[vllm_latest]) (5.0.2)\n",
      "Requirement already satisfied: googleapis-common-protos<2.0.0,>=1.56.2 in /usr/local/lib/python3.11/dist-packages (from google-api-core<3.0.0,>=1.0.0->opencensus->ray[default]==2.43.0->openrlhf[vllm_latest]) (1.70.0)\n",
      "Requirement already satisfied: proto-plus<2.0.0,>=1.22.3 in /usr/local/lib/python3.11/dist-packages (from google-api-core<3.0.0,>=1.0.0->opencensus->ray[default]==2.43.0->openrlhf[vllm_latest]) (1.26.1)\n",
      "Requirement already satisfied: google-auth<3.0.0,>=2.14.1 in /usr/local/lib/python3.11/dist-packages (from google-api-core<3.0.0,>=1.0.0->opencensus->ray[default]==2.43.0->openrlhf[vllm_latest]) (2.38.0)\n",
      "Requirement already satisfied: httpcore==1.* in /usr/local/lib/python3.11/dist-packages (from httpx>=0.23.0->fastapi[standard]>=0.115.0->vllm>0.9.1->openrlhf[vllm_latest]) (1.0.9)\n",
      "Requirement already satisfied: h11>=0.16 in /usr/local/lib/python3.11/dist-packages (from httpcore==1.*->httpx>=0.23.0->fastapi[standard]>=0.115.0->vllm>0.9.1->openrlhf[vllm_latest]) (0.16.0)\n",
      "Requirement already satisfied: httptools>=0.6.3 in /usr/local/lib/python3.11/dist-packages (from uvicorn[standard]>=0.12.0; extra == \"standard\"->fastapi[standard]>=0.115.0->vllm>0.9.1->openrlhf[vllm_latest]) (0.6.4)\n",
      "Requirement already satisfied: python-dotenv>=0.13 in /usr/local/lib/python3.11/dist-packages (from uvicorn[standard]>=0.12.0; extra == \"standard\"->fastapi[standard]>=0.115.0->vllm>0.9.1->openrlhf[vllm_latest]) (1.1.1)\n",
      "Requirement already satisfied: uvloop>=0.15.1 in /usr/local/lib/python3.11/dist-packages (from uvicorn[standard]>=0.12.0; extra == \"standard\"->fastapi[standard]>=0.115.0->vllm>0.9.1->openrlhf[vllm_latest]) (0.21.0)\n",
      "Requirement already satisfied: websockets>=10.4 in /usr/local/lib/python3.11/dist-packages (from uvicorn[standard]>=0.12.0; extra == \"standard\"->fastapi[standard]>=0.115.0->vllm>0.9.1->openrlhf[vllm_latest]) (15.0.1)\n",
      "Requirement already satisfied: fastrlock>=0.5 in /usr/local/lib/python3.11/dist-packages (from cupy-cuda12x->ray==2.43.0->ray[default]==2.43.0->openrlhf[vllm_latest]) (0.8.3)\n",
      "Requirement already satisfied: rignore>=0.5.1 in /usr/local/lib/python3.11/dist-packages (from fastapi-cloud-cli>=0.1.1->fastapi-cli[standard]>=0.0.8; extra == \"standard\"->fastapi[standard]>=0.115.0->vllm>0.9.1->openrlhf[vllm_latest]) (0.5.1)\n",
      "Requirement already satisfied: pyasn1-modules>=0.2.1 in /usr/local/lib/python3.11/dist-packages (from google-auth<3.0.0,>=2.14.1->google-api-core<3.0.0,>=1.0.0->opencensus->ray[default]==2.43.0->openrlhf[vllm_latest]) (0.4.2)\n",
      "Requirement already satisfied: rsa<5,>=3.1.4 in /usr/local/lib/python3.11/dist-packages (from google-auth<3.0.0,>=2.14.1->google-api-core<3.0.0,>=1.0.0->opencensus->ray[default]==2.43.0->openrlhf[vllm_latest]) (4.9.1)\n",
      "Requirement already satisfied: rich>=13.7.1 in /usr/local/lib/python3.11/dist-packages (from rich-toolkit>=0.14.8->fastapi-cli>=0.0.8->fastapi-cli[standard]>=0.0.8; extra == \"standard\"->fastapi[standard]>=0.115.0->vllm>0.9.1->openrlhf[vllm_latest]) (13.9.4)\n",
      "Requirement already satisfied: shellingham>=1.3.0 in /usr/local/lib/python3.11/dist-packages (from typer>=0.15.1->fastapi-cli>=0.0.8->fastapi-cli[standard]>=0.0.8; extra == \"standard\"->fastapi[standard]>=0.115.0->vllm>0.9.1->openrlhf[vllm_latest]) (1.5.4)\n",
      "Requirement already satisfied: pyasn1<0.7.0,>=0.6.1 in /usr/local/lib/python3.11/dist-packages (from pyasn1-modules>=0.2.1->google-auth<3.0.0,>=2.14.1->google-api-core<3.0.0,>=1.0.0->opencensus->ray[default]==2.43.0->openrlhf[vllm_latest]) (0.6.1)\n",
      "Requirement already satisfied: markdown-it-py>=2.2.0 in /usr/local/lib/python3.11/dist-packages (from rich>=13.7.1->rich-toolkit>=0.14.8->fastapi-cli>=0.0.8->fastapi-cli[standard]>=0.0.8; extra == \"standard\"->fastapi[standard]>=0.115.0->vllm>0.9.1->openrlhf[vllm_latest]) (3.0.0)\n",
      "Requirement already satisfied: pygments<3.0.0,>=2.13.0 in /usr/local/lib/python3.11/dist-packages (from rich>=13.7.1->rich-toolkit>=0.14.8->fastapi-cli>=0.0.8->fastapi-cli[standard]>=0.0.8; extra == \"standard\"->fastapi[standard]>=0.115.0->vllm>0.9.1->openrlhf[vllm_latest]) (2.19.2)\n",
      "Requirement already satisfied: mdurl~=0.1 in /usr/local/lib/python3.11/dist-packages (from markdown-it-py>=2.2.0->rich>=13.7.1->rich-toolkit>=0.14.8->fastapi-cli>=0.0.8->fastapi-cli[standard]>=0.0.8; extra == \"standard\"->fastapi[standard]>=0.115.0->vllm>0.9.1->openrlhf[vllm_latest]) (0.1.2)\n",
      "Installing collected packages: flash-attn\n",
      "  Attempting uninstall: flash-attn\n",
      "    Found existing installation: flash_attn 2.8.1\n",
      "    Uninstalling flash_attn-2.8.1:\n",
      "      Successfully uninstalled flash_attn-2.8.1\n",
      "Successfully installed flash-attn-2.8.0.post2\n",
      "Requirement already satisfied: flash-attn==2.8.0.post2 in /usr/local/lib/python3.11/dist-packages (2.8.0.post2)\n",
      "Requirement already satisfied: torch in /usr/local/lib/python3.11/dist-packages (from flash-attn==2.8.0.post2) (2.7.0)\n",
      "Requirement already satisfied: einops in /usr/local/lib/python3.11/dist-packages (from flash-attn==2.8.0.post2) (0.8.1)\n",
      "Requirement already satisfied: filelock in /usr/local/lib/python3.11/dist-packages (from torch->flash-attn==2.8.0.post2) (3.18.0)\n",
      "Requirement already satisfied: typing-extensions>=4.10.0 in /usr/local/lib/python3.11/dist-packages (from torch->flash-attn==2.8.0.post2) (4.14.1)\n",
      "Requirement already satisfied: sympy>=1.13.3 in /usr/local/lib/python3.11/dist-packages (from torch->flash-attn==2.8.0.post2) (1.14.0)\n",
      "Requirement already satisfied: networkx in /usr/local/lib/python3.11/dist-packages (from torch->flash-attn==2.8.0.post2) (3.5)\n",
      "Requirement already satisfied: jinja2 in /usr/local/lib/python3.11/dist-packages (from torch->flash-attn==2.8.0.post2) (3.1.6)\n",
      "Requirement already satisfied: fsspec in /usr/local/lib/python3.11/dist-packages (from torch->flash-attn==2.8.0.post2) (2023.6.0)\n",
      "Requirement already satisfied: nvidia-cuda-nvrtc-cu12==12.6.77 in /usr/local/lib/python3.11/dist-packages (from torch->flash-attn==2.8.0.post2) (12.6.77)\n",
      "Requirement already satisfied: nvidia-cuda-runtime-cu12==12.6.77 in /usr/local/lib/python3.11/dist-packages (from torch->flash-attn==2.8.0.post2) (12.6.77)\n",
      "Requirement already satisfied: nvidia-cuda-cupti-cu12==12.6.80 in /usr/local/lib/python3.11/dist-packages (from torch->flash-attn==2.8.0.post2) (12.6.80)\n",
      "Requirement already satisfied: nvidia-cudnn-cu12==9.5.1.17 in /usr/local/lib/python3.11/dist-packages (from torch->flash-attn==2.8.0.post2) (9.5.1.17)\n",
      "Requirement already satisfied: nvidia-cublas-cu12==12.6.4.1 in /usr/local/lib/python3.11/dist-packages (from torch->flash-attn==2.8.0.post2) (12.6.4.1)\n",
      "Requirement already satisfied: nvidia-cufft-cu12==11.3.0.4 in /usr/local/lib/python3.11/dist-packages (from torch->flash-attn==2.8.0.post2) (11.3.0.4)\n",
      "Requirement already satisfied: nvidia-curand-cu12==10.3.7.77 in /usr/local/lib/python3.11/dist-packages (from torch->flash-attn==2.8.0.post2) (10.3.7.77)\n",
      "Requirement already satisfied: nvidia-cusolver-cu12==11.7.1.2 in /usr/local/lib/python3.11/dist-packages (from torch->flash-attn==2.8.0.post2) (11.7.1.2)\n",
      "Requirement already satisfied: nvidia-cusparse-cu12==12.5.4.2 in /usr/local/lib/python3.11/dist-packages (from torch->flash-attn==2.8.0.post2) (12.5.4.2)\n",
      "Requirement already satisfied: nvidia-cusparselt-cu12==0.6.3 in /usr/local/lib/python3.11/dist-packages (from torch->flash-attn==2.8.0.post2) (0.6.3)\n",
      "Requirement already satisfied: nvidia-nccl-cu12==2.26.2 in /usr/local/lib/python3.11/dist-packages (from torch->flash-attn==2.8.0.post2) (2.26.2)\n",
      "Requirement already satisfied: nvidia-nvtx-cu12==12.6.77 in /usr/local/lib/python3.11/dist-packages (from torch->flash-attn==2.8.0.post2) (12.6.77)\n",
      "Requirement already satisfied: nvidia-nvjitlink-cu12==12.6.85 in /usr/local/lib/python3.11/dist-packages (from torch->flash-attn==2.8.0.post2) (12.6.85)\n",
      "Requirement already satisfied: nvidia-cufile-cu12==1.11.1.6 in /usr/local/lib/python3.11/dist-packages (from torch->flash-attn==2.8.0.post2) (1.11.1.6)\n",
      "Requirement already satisfied: triton==3.3.0 in /usr/local/lib/python3.11/dist-packages (from torch->flash-attn==2.8.0.post2) (3.3.0)\n",
      "Requirement already satisfied: setuptools>=40.8.0 in /usr/local/lib/python3.11/dist-packages (from triton==3.3.0->torch->flash-attn==2.8.0.post2) (75.2.0)\n",
      "Requirement already satisfied: mpmath<1.4,>=1.1.0 in /usr/local/lib/python3.11/dist-packages (from sympy>=1.13.3->torch->flash-attn==2.8.0.post2) (1.3.0)\n",
      "Requirement already satisfied: MarkupSafe>=2.0 in /usr/local/lib/python3.11/dist-packages (from jinja2->torch->flash-attn==2.8.0.post2) (3.0.2)\n",
      "Requirement already satisfied: datasets==2.14.5 in /usr/local/lib/python3.11/dist-packages (2.14.5)\n",
      "Requirement already satisfied: numpy>=1.17 in /usr/local/lib/python3.11/dist-packages (from datasets==2.14.5) (2.0.2)\n",
      "Requirement already satisfied: pyarrow>=8.0.0 in /usr/local/lib/python3.11/dist-packages (from datasets==2.14.5) (18.1.0)\n",
      "Requirement already satisfied: dill<0.3.8,>=0.3.0 in /usr/local/lib/python3.11/dist-packages (from datasets==2.14.5) (0.3.7)\n",
      "Requirement already satisfied: pandas in /usr/local/lib/python3.11/dist-packages (from datasets==2.14.5) (2.2.2)\n",
      "Requirement already satisfied: requests>=2.19.0 in /usr/local/lib/python3.11/dist-packages (from datasets==2.14.5) (2.32.3)\n",
      "Requirement already satisfied: tqdm>=4.62.1 in /usr/local/lib/python3.11/dist-packages (from datasets==2.14.5) (4.67.1)\n",
      "Requirement already satisfied: xxhash in /usr/local/lib/python3.11/dist-packages (from datasets==2.14.5) (3.5.0)\n",
      "Requirement already satisfied: multiprocess in /usr/local/lib/python3.11/dist-packages (from datasets==2.14.5) (0.70.15)\n",
      "Requirement already satisfied: fsspec<2023.9.0,>=2023.1.0 in /usr/local/lib/python3.11/dist-packages (from fsspec[http]<2023.9.0,>=2023.1.0->datasets==2.14.5) (2023.6.0)\n",
      "Requirement already satisfied: aiohttp in /usr/local/lib/python3.11/dist-packages (from datasets==2.14.5) (3.11.15)\n",
      "Requirement already satisfied: huggingface-hub<1.0.0,>=0.14.0 in /usr/local/lib/python3.11/dist-packages (from datasets==2.14.5) (0.33.2)\n",
      "Requirement already satisfied: packaging in /usr/local/lib/python3.11/dist-packages (from datasets==2.14.5) (24.2)\n",
      "Requirement already satisfied: pyyaml>=5.1 in /usr/local/lib/python3.11/dist-packages (from datasets==2.14.5) (6.0.2)\n",
      "Requirement already satisfied: aiohappyeyeballs>=2.3.0 in /usr/local/lib/python3.11/dist-packages (from aiohttp->datasets==2.14.5) (2.6.1)\n",
      "Requirement already satisfied: aiosignal>=1.1.2 in /usr/local/lib/python3.11/dist-packages (from aiohttp->datasets==2.14.5) (1.4.0)\n",
      "Requirement already satisfied: attrs>=17.3.0 in /usr/local/lib/python3.11/dist-packages (from aiohttp->datasets==2.14.5) (25.3.0)\n",
      "Requirement already satisfied: frozenlist>=1.1.1 in /usr/local/lib/python3.11/dist-packages (from aiohttp->datasets==2.14.5) (1.7.0)\n",
      "Requirement already satisfied: multidict<7.0,>=4.5 in /usr/local/lib/python3.11/dist-packages (from aiohttp->datasets==2.14.5) (6.6.3)\n",
      "Requirement already satisfied: propcache>=0.2.0 in /usr/local/lib/python3.11/dist-packages (from aiohttp->datasets==2.14.5) (0.3.2)\n",
      "Requirement already satisfied: yarl<2.0,>=1.17.0 in /usr/local/lib/python3.11/dist-packages (from aiohttp->datasets==2.14.5) (1.20.1)\n",
      "Requirement already satisfied: filelock in /usr/local/lib/python3.11/dist-packages (from huggingface-hub<1.0.0,>=0.14.0->datasets==2.14.5) (3.18.0)\n",
      "Requirement already satisfied: typing-extensions>=3.7.4.3 in /usr/local/lib/python3.11/dist-packages (from huggingface-hub<1.0.0,>=0.14.0->datasets==2.14.5) (4.14.1)\n",
      "Requirement already satisfied: hf-xet<2.0.0,>=1.1.2 in /usr/local/lib/python3.11/dist-packages (from huggingface-hub<1.0.0,>=0.14.0->datasets==2.14.5) (1.1.5)\n",
      "Requirement already satisfied: charset-normalizer<4,>=2 in /usr/local/lib/python3.11/dist-packages (from requests>=2.19.0->datasets==2.14.5) (3.4.2)\n",
      "Requirement already satisfied: idna<4,>=2.5 in /usr/local/lib/python3.11/dist-packages (from requests>=2.19.0->datasets==2.14.5) (3.10)\n",
      "Requirement already satisfied: urllib3<3,>=1.21.1 in /usr/local/lib/python3.11/dist-packages (from requests>=2.19.0->datasets==2.14.5) (2.4.0)\n",
      "Requirement already satisfied: certifi>=2017.4.17 in /usr/local/lib/python3.11/dist-packages (from requests>=2.19.0->datasets==2.14.5) (2025.7.9)\n",
      "Requirement already satisfied: python-dateutil>=2.8.2 in /usr/local/lib/python3.11/dist-packages (from pandas->datasets==2.14.5) (2.9.0.post0)\n",
      "Requirement already satisfied: pytz>=2020.1 in /usr/local/lib/python3.11/dist-packages (from pandas->datasets==2.14.5) (2025.2)\n",
      "Requirement already satisfied: tzdata>=2022.7 in /usr/local/lib/python3.11/dist-packages (from pandas->datasets==2.14.5) (2025.2)\n",
      "Requirement already satisfied: six>=1.5 in /usr/local/lib/python3.11/dist-packages (from python-dateutil>=2.8.2->pandas->datasets==2.14.5) (1.17.0)\n"
     ]
    }
   ],
   "source": [
    "!pip install openrlhf[vllm_latest]\n",
    "!pip install flash-attn==2.8.0.post2\n",
    "!pip install datasets==2.14.5"
   ]
  },
  {
   "cell_type": "markdown",
   "id": "c3773a6d",
   "metadata": {
    "id": "c3773a6d"
   },
   "source": [
    "### Train Reward Model"
   ]
  },
  {
   "cell_type": "code",
   "execution_count": null,
   "id": "2230458c",
   "metadata": {
    "colab": {
     "base_uri": "https://localhost:8080/"
    },
    "executionInfo": {
     "elapsed": 64394,
     "status": "ok",
     "timestamp": 1752277873527,
     "user": {
      "displayName": "Nghe-Nhan Truong",
      "userId": "11787569011463521128"
     },
     "user_tz": -420
    },
    "id": "2230458c",
    "outputId": "865543ff-3a08-4817-e9f4-f150c3639186"
   },
   "outputs": [
    {
     "name": "stdout",
     "output_type": "stream",
     "text": [
      "[2025-07-11 23:50:13,735] [INFO] [real_accelerator.py:254:get_accelerator] Setting ds_accelerator to cuda (auto detect)\n",
      "[2025-07-11 23:50:17,793] [INFO] [logging.py:107:log_dist] [Rank -1] [TorchCheckpointEngine] Initialized with serialization = False\n",
      "2025-07-11 23:50:18.986159: E external/local_xla/xla/stream_executor/cuda/cuda_fft.cc:477] Unable to register cuFFT factory: Attempting to register factory for plugin cuFFT when one has already been registered\n",
      "WARNING: All log messages before absl::InitializeLog() is called are written to STDERR\n",
      "E0000 00:00:1752277819.006482   22254 cuda_dnn.cc:8310] Unable to register cuDNN factory: Attempting to register factory for plugin cuDNN when one has already been registered\n",
      "E0000 00:00:1752277819.012872   22254 cuda_blas.cc:1418] Unable to register cuBLAS factory: Attempting to register factory for plugin cuBLAS when one has already been registered\n",
      "2025-07-11 23:50:19.033514: I tensorflow/core/platform/cpu_feature_guard.cc:210] This TensorFlow binary is optimized to use available CPU instructions in performance-critical operations.\n",
      "To enable the following instructions: AVX2 AVX512F FMA, in other operations, rebuild TensorFlow with the appropriate compiler flags.\n",
      "[2025-07-11 23:50:21,691] [WARNING] [runner.py:220:fetch_hostfile] Unable to find hostfile, will proceed with training with local resources only.\n",
      "[2025-07-11 23:50:21,691] [INFO] [runner.py:610:main] cmd = /usr/bin/python3 -u -m deepspeed.launcher.launch --world_info=eyJsb2NhbGhvc3QiOiBbMF19 --master_addr=127.0.0.1 --master_port=29500 --module --enable_each_rank_log=None openrlhf.cli.train_rm --save_path ./checkpoint/Llama-3.2-8B-rm-dpo --save_steps -1 --logging_steps 1 --eval_steps -1 --train_batch_size 16 --micro_train_batch_size 2 --pretrain DATVO110/Llama-3.2-8B-Instruct-Chat-sft --value_head_prefix score --bf16 --max_epochs 1 --max_len 2048 --zero_stage 2 --learning_rate 5e-6 --dataset thuanan/Vi-Alpaca-Preference --apply_chat_template --chosen_key chosen --rejected_key rejected --flash_attn --load_checkpoint --packing_samples --gradient_checkpointing --adam_offload --lora_rank 16 --lora_alpha 32\n",
      "[2025-07-11 23:50:23,495] [INFO] [real_accelerator.py:254:get_accelerator] Setting ds_accelerator to cuda (auto detect)\n",
      "[2025-07-11 23:50:27,452] [INFO] [logging.py:107:log_dist] [Rank -1] [TorchCheckpointEngine] Initialized with serialization = False\n",
      "2025-07-11 23:50:28.633087: E external/local_xla/xla/stream_executor/cuda/cuda_fft.cc:477] Unable to register cuFFT factory: Attempting to register factory for plugin cuFFT when one has already been registered\n",
      "WARNING: All log messages before absl::InitializeLog() is called are written to STDERR\n",
      "E0000 00:00:1752277828.653823   22378 cuda_dnn.cc:8310] Unable to register cuDNN factory: Attempting to register factory for plugin cuDNN when one has already been registered\n",
      "E0000 00:00:1752277828.660395   22378 cuda_blas.cc:1418] Unable to register cuBLAS factory: Attempting to register factory for plugin cuBLAS when one has already been registered\n",
      "[2025-07-11 23:50:31,305] [INFO] [launch.py:139:main] 0 NV_LIBNCCL_DEV_PACKAGE=libnccl-dev=2.22.3-1+cuda12.5\n",
      "[2025-07-11 23:50:31,305] [INFO] [launch.py:139:main] 0 NV_LIBNCCL_DEV_PACKAGE_VERSION=2.22.3-1\n",
      "[2025-07-11 23:50:31,305] [INFO] [launch.py:139:main] 0 NCCL_VERSION=2.22.3-1\n",
      "[2025-07-11 23:50:31,305] [INFO] [launch.py:139:main] 0 NV_LIBNCCL_DEV_PACKAGE_NAME=libnccl-dev\n",
      "[2025-07-11 23:50:31,305] [INFO] [launch.py:139:main] 0 NV_LIBNCCL_PACKAGE=libnccl2=2.22.3-1+cuda12.5\n",
      "[2025-07-11 23:50:31,305] [INFO] [launch.py:139:main] 0 NV_LIBNCCL_PACKAGE_NAME=libnccl2\n",
      "[2025-07-11 23:50:31,305] [INFO] [launch.py:139:main] 0 NV_LIBNCCL_PACKAGE_VERSION=2.22.3-1\n",
      "[2025-07-11 23:50:31,305] [INFO] [launch.py:146:main] WORLD INFO DICT: {'localhost': [0]}\n",
      "[2025-07-11 23:50:31,305] [INFO] [launch.py:152:main] nnodes=1, num_local_procs=1, node_rank=0\n",
      "[2025-07-11 23:50:31,305] [INFO] [launch.py:163:main] global_rank_mapping=defaultdict(<class 'list'>, {'localhost': [0]})\n",
      "[2025-07-11 23:50:31,305] [INFO] [launch.py:164:main] dist_world_size=1\n",
      "[2025-07-11 23:50:31,305] [INFO] [launch.py:168:main] Setting CUDA_VISIBLE_DEVICES=0\n",
      "[2025-07-11 23:50:31,305] [INFO] [launch.py:256:main] process 22502 spawned with command: ['/usr/bin/python3', '-u', '-m', 'openrlhf.cli.train_rm', '--local_rank=0', '--save_path', './checkpoint/Llama-3.2-8B-rm-dpo', '--save_steps', '-1', '--logging_steps', '1', '--eval_steps', '-1', '--train_batch_size', '16', '--micro_train_batch_size', '2', '--pretrain', 'DATVO110/Llama-3.2-8B-Instruct-Chat-sft', '--value_head_prefix', 'score', '--bf16', '--max_epochs', '1', '--max_len', '2048', '--zero_stage', '2', '--learning_rate', '5e-6', '--dataset', 'thuanan/Vi-Alpaca-Preference', '--apply_chat_template', '--chosen_key', 'chosen', '--rejected_key', 'rejected', '--flash_attn', '--load_checkpoint', '--packing_samples', '--gradient_checkpointing', '--adam_offload', '--lora_rank', '16', '--lora_alpha', '32']\n",
      "2025-07-11 23:50:35.933274: E external/local_xla/xla/stream_executor/cuda/cuda_fft.cc:477] Unable to register cuFFT factory: Attempting to register factory for plugin cuFFT when one has already been registered\n",
      "WARNING: All log messages before absl::InitializeLog() is called are written to STDERR\n",
      "E0000 00:00:1752277835.953829   22502 cuda_dnn.cc:8310] Unable to register cuDNN factory: Attempting to register factory for plugin cuDNN when one has already been registered\n",
      "E0000 00:00:1752277835.960417   22502 cuda_blas.cc:1418] Unable to register cuBLAS factory: Attempting to register factory for plugin cuBLAS when one has already been registered\n",
      "[2025-07-11 23:50:40,817] [INFO] [real_accelerator.py:254:get_accelerator] Setting ds_accelerator to cuda (auto detect)\n",
      "[2025-07-11 23:50:41,657] [INFO] [logging.py:107:log_dist] [Rank -1] [TorchCheckpointEngine] Initialized with serialization = False\n",
      "[2025-07-11 23:50:41,681] [INFO] [comm.py:675:init_distributed] cdb=None\n",
      "[2025-07-11 23:50:41,682] [INFO] [comm.py:706:init_distributed] Initializing TorchBackend in DeepSpeed with backend nccl\n",
      "INFO 07-11 23:50:41 model.py:73] set value_head_prefix to `score`\n",
      "You are attempting to use Flash Attention 2.0 with a model not initialized on GPU. Make sure to move the model to GPU after initializing it on CPU with `model.to('cuda')`.\n",
      "Loading checkpoint shards: 100% 4/4 [00:00<00:00, 56.17it/s]\n",
      "Some weights of RewardModel were not initialized from the model checkpoint at DATVO110/Llama-3.2-8B-Instruct-Chat-sft and are newly initialized: ['score.weight']\n",
      "You should probably TRAIN this model on a down-stream task to be able to use it for predictions and inference.\n",
      "PeftModel(\n",
      "  (base_model): LoraModel(\n",
      "    (model): RewardModel(\n",
      "      (model): LlamaModel(\n",
      "        (embed_tokens): Embedding(128256, 4096, padding_idx=128004)\n",
      "        (layers): ModuleList(\n",
      "          (0-31): 32 x LlamaDecoderLayer(\n",
      "            (self_attn): LlamaAttention(\n",
      "              (q_proj): lora.Linear(\n",
      "                (base_layer): Linear(in_features=4096, out_features=4096, bias=False)\n",
      "                (lora_dropout): ModuleDict(\n",
      "                  (default): Identity()\n",
      "                )\n",
      "                (lora_A): ModuleDict(\n",
      "                  (default): Linear(in_features=4096, out_features=16, bias=False)\n",
      "                )\n",
      "                (lora_B): ModuleDict(\n",
      "                  (default): Linear(in_features=16, out_features=4096, bias=False)\n",
      "                )\n",
      "                (lora_embedding_A): ParameterDict()\n",
      "                (lora_embedding_B): ParameterDict()\n",
      "                (lora_magnitude_vector): ModuleDict()\n",
      "              )\n",
      "              (k_proj): lora.Linear(\n",
      "                (base_layer): Linear(in_features=4096, out_features=1024, bias=False)\n",
      "                (lora_dropout): ModuleDict(\n",
      "                  (default): Identity()\n",
      "                )\n",
      "                (lora_A): ModuleDict(\n",
      "                  (default): Linear(in_features=4096, out_features=16, bias=False)\n",
      "                )\n",
      "                (lora_B): ModuleDict(\n",
      "                  (default): Linear(in_features=16, out_features=1024, bias=False)\n",
      "                )\n",
      "                (lora_embedding_A): ParameterDict()\n",
      "                (lora_embedding_B): ParameterDict()\n",
      "                (lora_magnitude_vector): ModuleDict()\n",
      "              )\n",
      "              (v_proj): lora.Linear(\n",
      "                (base_layer): Linear(in_features=4096, out_features=1024, bias=False)\n",
      "                (lora_dropout): ModuleDict(\n",
      "                  (default): Identity()\n",
      "                )\n",
      "                (lora_A): ModuleDict(\n",
      "                  (default): Linear(in_features=4096, out_features=16, bias=False)\n",
      "                )\n",
      "                (lora_B): ModuleDict(\n",
      "                  (default): Linear(in_features=16, out_features=1024, bias=False)\n",
      "                )\n",
      "                (lora_embedding_A): ParameterDict()\n",
      "                (lora_embedding_B): ParameterDict()\n",
      "                (lora_magnitude_vector): ModuleDict()\n",
      "              )\n",
      "              (o_proj): lora.Linear(\n",
      "                (base_layer): Linear(in_features=4096, out_features=4096, bias=False)\n",
      "                (lora_dropout): ModuleDict(\n",
      "                  (default): Identity()\n",
      "                )\n",
      "                (lora_A): ModuleDict(\n",
      "                  (default): Linear(in_features=4096, out_features=16, bias=False)\n",
      "                )\n",
      "                (lora_B): ModuleDict(\n",
      "                  (default): Linear(in_features=16, out_features=4096, bias=False)\n",
      "                )\n",
      "                (lora_embedding_A): ParameterDict()\n",
      "                (lora_embedding_B): ParameterDict()\n",
      "                (lora_magnitude_vector): ModuleDict()\n",
      "              )\n",
      "            )\n",
      "            (mlp): LlamaMLP(\n",
      "              (gate_proj): lora.Linear(\n",
      "                (base_layer): Linear(in_features=4096, out_features=14336, bias=False)\n",
      "                (lora_dropout): ModuleDict(\n",
      "                  (default): Identity()\n",
      "                )\n",
      "                (lora_A): ModuleDict(\n",
      "                  (default): Linear(in_features=4096, out_features=16, bias=False)\n",
      "                )\n",
      "                (lora_B): ModuleDict(\n",
      "                  (default): Linear(in_features=16, out_features=14336, bias=False)\n",
      "                )\n",
      "                (lora_embedding_A): ParameterDict()\n",
      "                (lora_embedding_B): ParameterDict()\n",
      "                (lora_magnitude_vector): ModuleDict()\n",
      "              )\n",
      "              (up_proj): lora.Linear(\n",
      "                (base_layer): Linear(in_features=4096, out_features=14336, bias=False)\n",
      "                (lora_dropout): ModuleDict(\n",
      "                  (default): Identity()\n",
      "                )\n",
      "                (lora_A): ModuleDict(\n",
      "                  (default): Linear(in_features=4096, out_features=16, bias=False)\n",
      "                )\n",
      "                (lora_B): ModuleDict(\n",
      "                  (default): Linear(in_features=16, out_features=14336, bias=False)\n",
      "                )\n",
      "                (lora_embedding_A): ParameterDict()\n",
      "                (lora_embedding_B): ParameterDict()\n",
      "                (lora_magnitude_vector): ModuleDict()\n",
      "              )\n",
      "              (down_proj): lora.Linear(\n",
      "                (base_layer): Linear(in_features=14336, out_features=4096, bias=False)\n",
      "                (lora_dropout): ModuleDict(\n",
      "                  (default): Identity()\n",
      "                )\n",
      "                (lora_A): ModuleDict(\n",
      "                  (default): Linear(in_features=14336, out_features=16, bias=False)\n",
      "                )\n",
      "                (lora_B): ModuleDict(\n",
      "                  (default): Linear(in_features=16, out_features=4096, bias=False)\n",
      "                )\n",
      "                (lora_embedding_A): ParameterDict()\n",
      "                (lora_embedding_B): ParameterDict()\n",
      "                (lora_magnitude_vector): ModuleDict()\n",
      "              )\n",
      "              (act_fn): SiLU()\n",
      "            )\n",
      "            (input_layernorm): LlamaRMSNorm((4096,), eps=1e-05)\n",
      "            (post_attention_layernorm): LlamaRMSNorm((4096,), eps=1e-05)\n",
      "          )\n",
      "        )\n",
      "        (norm): LlamaRMSNorm((4096,), eps=1e-05)\n",
      "        (rotary_emb): LlamaRotaryEmbedding()\n",
      "      )\n",
      "      (score): lora.Linear(\n",
      "        (base_layer): Linear(in_features=4096, out_features=1, bias=False)\n",
      "        (lora_dropout): ModuleDict(\n",
      "          (default): Identity()\n",
      "        )\n",
      "        (lora_A): ModuleDict(\n",
      "          (default): Linear(in_features=4096, out_features=16, bias=False)\n",
      "        )\n",
      "        (lora_B): ModuleDict(\n",
      "          (default): Linear(in_features=16, out_features=1, bias=False)\n",
      "        )\n",
      "        (lora_embedding_A): ParameterDict()\n",
      "        (lora_embedding_B): ParameterDict()\n",
      "        (lora_magnitude_vector): ModuleDict()\n",
      "      )\n",
      "    )\n",
      "  )\n",
      ")\n",
      "Installed CUDA version 12.5 does not match the version torch was compiled with 12.6 but since the APIs are compatible, accepting this combination\n",
      "Using /root/.cache/torch_extensions/py311_cu126 as PyTorch extensions root...\n",
      "Detected CUDA files, patching ldflags\n",
      "Emitting ninja build file /root/.cache/torch_extensions/py311_cu126/cpu_adam/build.ninja...\n",
      "/usr/local/lib/python3.11/dist-packages/torch/utils/cpp_extension.py:2356: UserWarning: TORCH_CUDA_ARCH_LIST is not set, all archs for visible cards are included for compilation. \n",
      "If this is not desired, please set os.environ['TORCH_CUDA_ARCH_LIST'].\n",
      "  warnings.warn(\n",
      "Building extension module cpu_adam...\n",
      "Allowing ninja to set a default number of workers... (overridable by setting the environment variable MAX_JOBS=N)\n",
      "ninja: no work to do.\n",
      "Loading extension module cpu_adam...\n",
      "Time to load cpu_adam op: 2.271578550338745 seconds\n",
      "Adam Optimizer #0 is created with AVX512 arithmetic capability.\n",
      "Config: alpha=0.000005, betas=(0.900000, 0.950000), weight_decay=0.000000, adam_w=1\n",
      "dataset: thuanan/Vi-Alpaca-Preference\n",
      "loaded thuanan/Vi-Alpaca-Preference from files\n",
      "[Dataset({\n",
      "    features: ['id', 'chosen', 'rejected', 'prompt', 'chosen_score', 'rejected_score'],\n",
      "    num_rows: 65017\n",
      "})]\n",
      "Map (num_proc=8): 100% 65017/65017 [00:06<00:00, 9831.19 examples/s] \n",
      "/usr/local/lib/python3.11/dist-packages/datasets/table.py:1421: FutureWarning: promote has been superseded by promote_options='default'.\n",
      "  table = cls._concat_blocks(blocks, axis=0)\n",
      "Filter: 100% 65017/65017 [00:00<00:00, 68861.54 examples/s]\n",
      "Map (num_proc=8): 100% 650/650 [00:02<00:00, 217.38 examples/s]\n",
      "Filter: 100% 650/650 [00:00<00:00, 39888.48 examples/s]\n",
      "[2025-07-11 23:51:02,728] [INFO] [logging.py:107:log_dist] [Rank 0] DeepSpeed info: version=0.17.1, git-hash=unknown, git-branch=unknown\n",
      "[2025-07-11 23:51:02,728] [INFO] [comm.py:700:init_distributed] Distributed backend already initialized\n",
      "[2025-07-11 23:51:02,728] [INFO] [config.py:655:__init__] Config mesh_device None world_size = 1\n",
      "[2025-07-11 23:51:07,569] [INFO] [engine.py:1325:_configure_distributed_model] ********** distributed groups summary **********\n",
      "\t self.dp_world_size=1\n",
      "\t self.mp_world_size=1\n",
      "\t self.seq_dp_world_size=1\n",
      "\t self.sequence_parallel_size=1\n",
      "***********************************************\n",
      "[rank0]:[W711 23:51:07.248237654 NCCLUtils.cpp:22] Warning: WARNING: NCCL communicator hasn't been destroyed. This may cause memory leaks. To avoid the risk, you can call `destroy_process_group` during normal exit or `_abort_process_group` when handling failures. (function operator())\n",
      "[rank0]: Traceback (most recent call last):\n",
      "[rank0]:   File \"<frozen runpy>\", line 198, in _run_module_as_main\n",
      "[rank0]:   File \"<frozen runpy>\", line 88, in _run_code\n",
      "[rank0]:   File \"/usr/local/lib/python3.11/dist-packages/openrlhf/cli/train_rm.py\", line 295, in <module>\n",
      "[rank0]:     train(args)\n",
      "[rank0]:   File \"/usr/local/lib/python3.11/dist-packages/openrlhf/cli/train_rm.py\", line 119, in train\n",
      "[rank0]:     (model, optim, scheduler) = strategy.prepare((model, optim, scheduler))\n",
      "[rank0]:                                 ^^^^^^^^^^^^^^^^^^^^^^^^^^^^^^^^^^^^^^^^^^^\n",
      "[rank0]:   File \"/usr/local/lib/python3.11/dist-packages/openrlhf/utils/deepspeed/deepspeed.py\", line 214, in prepare\n",
      "[rank0]:     ret.append(self._ds_init_train_model(*arg))\n",
      "[rank0]:                ^^^^^^^^^^^^^^^^^^^^^^^^^^^^^^^\n",
      "[rank0]:   File \"/usr/local/lib/python3.11/dist-packages/openrlhf/utils/deepspeed/deepspeed.py\", line 235, in _ds_init_train_model\n",
      "[rank0]:     engine, optim, _, scheduler = deepspeed.initialize(\n",
      "[rank0]:                                   ^^^^^^^^^^^^^^^^^^^^^\n",
      "[rank0]:   File \"/usr/local/lib/python3.11/dist-packages/deepspeed/__init__.py\", line 193, in initialize\n",
      "[rank0]:     engine = DeepSpeedEngine(args=args,\n",
      "[rank0]:              ^^^^^^^^^^^^^^^^^^^^^^^^^^\n",
      "[rank0]:   File \"/usr/local/lib/python3.11/dist-packages/deepspeed/runtime/engine.py\", line 283, in __init__\n",
      "[rank0]:     self._configure_distributed_model(model)\n",
      "[rank0]:   File \"/usr/local/lib/python3.11/dist-packages/deepspeed/runtime/engine.py\", line 1328, in _configure_distributed_model\n",
      "[rank0]:     self._broadcast_model()\n",
      "[rank0]:   File \"/usr/local/lib/python3.11/dist-packages/deepspeed/runtime/engine.py\", line 1237, in _broadcast_model\n",
      "[rank0]:     dist.broadcast(p.data, groups._get_broadcast_src_rank(), group=self.seq_data_parallel_group)\n",
      "[rank0]:   File \"/usr/local/lib/python3.11/dist-packages/deepspeed/comm/comm.py\", line 117, in log_wrapper\n",
      "[rank0]:     return func(*args, **kwargs)\n",
      "[rank0]:            ^^^^^^^^^^^^^^^^^^^^^\n",
      "[rank0]:   File \"/usr/local/lib/python3.11/dist-packages/deepspeed/comm/comm.py\", line 224, in broadcast\n",
      "[rank0]:     return cdb.broadcast(tensor=tensor, src=src, group=group, async_op=async_op)\n",
      "[rank0]:            ^^^^^^^^^^^^^^^^^^^^^^^^^^^^^^^^^^^^^^^^^^^^^^^^^^^^^^^^^^^^^^^^^^^^^\n",
      "[rank0]:   File \"/usr/local/lib/python3.11/dist-packages/deepspeed/comm/torch.py\", line 206, in broadcast\n",
      "[rank0]:     return torch.distributed.broadcast(tensor=tensor, src=src, group=group, async_op=async_op)\n",
      "[rank0]:            ^^^^^^^^^^^^^^^^^^^^^^^^^^^^^^^^^^^^^^^^^^^^^^^^^^^^^^^^^^^^^^^^^^^^^^^^^^^^^^^^^^^\n",
      "[rank0]:   File \"/usr/local/lib/python3.11/dist-packages/torch/distributed/c10d_logger.py\", line 81, in wrapper\n",
      "[rank0]:     return func(*args, **kwargs)\n",
      "[rank0]:            ^^^^^^^^^^^^^^^^^^^^^\n",
      "[rank0]:   File \"/usr/local/lib/python3.11/dist-packages/torch/distributed/distributed_c10d.py\", line 2714, in broadcast\n",
      "[rank0]:     work = group.broadcast([tensor], opts)\n",
      "[rank0]:            ^^^^^^^^^^^^^^^^^^^^^^^^^^^^^^^\n",
      "[rank0]: RuntimeError: CUDA error: out of memory\n",
      "[rank0]: CUDA kernel errors might be asynchronously reported at some other API call, so the stacktrace below might be incorrect.\n",
      "[rank0]: For debugging consider passing CUDA_LAUNCH_BLOCKING=1\n",
      "[rank0]: Compile with `TORCH_USE_CUDA_DSA` to enable device-side assertions.\n",
      "\n",
      "Exception ignored in: <function DeepSpeedEngine.__del__ at 0x7f4dbf063600>\n",
      "Traceback (most recent call last):\n",
      "  File \"/usr/local/lib/python3.11/dist-packages/deepspeed/runtime/engine.py\", line 505, in __del__\n",
      "    self.destroy()\n",
      "  File \"/usr/local/lib/python3.11/dist-packages/deepspeed/runtime/engine.py\", line 508, in destroy\n",
      "    if self.optimizer is not None and hasattr(self.optimizer, 'destroy'):\n",
      "       ^^^^^^^^^^^^^^\n",
      "  File \"/usr/local/lib/python3.11/dist-packages/deepspeed/runtime/engine.py\", line 617, in __getattr__\n",
      "    raise AttributeError(f\"'{type(self).__name__}' object has no attribute '{name}'\")\n",
      "AttributeError: 'DeepSpeedEngine' object has no attribute 'optimizer'\n",
      "[rank0]:[W711 23:51:09.880790590 ProcessGroupNCCL.cpp:1476] Warning: WARNING: destroy_process_group() was not called before program exit, which can leak resources. For more info, please see https://pytorch.org/docs/stable/distributed.html#shutdown (function operator())\n",
      "[2025-07-11 23:51:11,312] [INFO] [launch.py:319:sigkill_handler] Killing subprocess 22502\n",
      "[2025-07-11 23:51:11,313] [ERROR] [launch.py:325:sigkill_handler] ['/usr/bin/python3', '-u', '-m', 'openrlhf.cli.train_rm', '--local_rank=0', '--save_path', './checkpoint/Llama-3.2-8B-rm-dpo', '--save_steps', '-1', '--logging_steps', '1', '--eval_steps', '-1', '--train_batch_size', '16', '--micro_train_batch_size', '2', '--pretrain', 'DATVO110/Llama-3.2-8B-Instruct-Chat-sft', '--value_head_prefix', 'score', '--bf16', '--max_epochs', '1', '--max_len', '2048', '--zero_stage', '2', '--learning_rate', '5e-6', '--dataset', 'thuanan/Vi-Alpaca-Preference', '--apply_chat_template', '--chosen_key', 'chosen', '--rejected_key', 'rejected', '--flash_attn', '--load_checkpoint', '--packing_samples', '--gradient_checkpointing', '--adam_offload', '--lora_rank', '16', '--lora_alpha', '32'] exits with return code = 1\n"
     ]
    }
   ],
   "source": [
    "!deepspeed --module openrlhf.cli.train_rm \\\n",
    "   --save_path ./checkpoint/Llama-3.2-1B-rm-dpo \\\n",
    "   --save_steps -1 \\\n",
    "   --logging_steps 1 \\\n",
    "   --eval_steps -1 \\\n",
    "   --train_batch_size 16 \\\n",
    "   --micro_train_batch_size 2 \\\n",
    "   --pretrain DATVO110/Llama-3.2-1B-Instruct-Chat-sft \\\n",
    "   --value_head_prefix score \\\n",
    "   --bf16 \\\n",
    "   --max_epochs 1 \\\n",
    "   --max_len 2048 \\\n",
    "   --zero_stage 2 \\\n",
    "   --learning_rate 5e-6 \\\n",
    "   --dataset thuanan/Vi-Alpaca-Preference \\\n",
    "   --apply_chat_template \\\n",
    "   --chosen_key chosen \\\n",
    "   --rejected_key rejected \\\n",
    "   --flash_attn \\\n",
    "   --load_checkpoint \\\n",
    "   --packing_samples \\\n",
    "   --gradient_checkpointing \\\n",
    "   --adam_offload \\\n",
    "   --lora_rank 16 \\\n",
    "   --lora_alpha 32"
   ]
  },
  {
   "cell_type": "code",
   "execution_count": null,
   "id": "lr231qP3z2lQ",
   "metadata": {
    "id": "lr231qP3z2lQ"
   },
   "outputs": [],
   "source": [
    "from transformers import AutoModelForCausalLM\n",
    "from peft import PeftModel\n",
    "from transformers import AutoTokenizer\n",
    "# 1. Load base model\n",
    "model = AutoModelForCausalLM.from_pretrained(\n",
    "    \"DATVO110/Llama-3.2-1B-Instruct-Chat-sft\",\n",
    "    device_map=\"auto\",\n",
    "    torch_dtype=\"auto\"\n",
    ")\n",
    "\n",
    "# 2. Load LoRA adapter từ thư mục local\n",
    "model = PeftModel.from_pretrained(\n",
    "    model,\n",
    "    \"/content/OpenRLHF/checkpoint/Llama-3.2-1B-rm-dpo\",\n",
    "    is_local=True,         # CHỖ QUAN TRỌNG để tránh lỗi\n",
    "    is_trainable=False\n",
    ")\n",
    "\n",
    "# 3. Merge lại adapter vào base model\n",
    "model = model.merge_and_unload()\n",
    "\n",
    "# Copy tokenizer từ model gốc sang thư mục merged model\n",
    "tokenizer = AutoTokenizer.from_pretrained(\"DATVO110/Llama-3.2-1B-Instruct-Chat-sft\")\n",
    "tokenizer.save_pretrained(\"./checkpoint/Llama-3.2-1B-rm-dpo-combined\")\n",
    "\n",
    "# 4. Lưu lại model đã merge ra thư mục mới\n",
    "model.save_pretrained(\"./checkpoint/Llama-3.2-1B-rm-dpo-combined\")"
   ]
  },
  {
   "cell_type": "markdown",
   "id": "bc2cada6",
   "metadata": {
    "id": "bc2cada6"
   },
   "source": [
    "### Merge LoRA Adapter Weights"
   ]
  },
  {
   "cell_type": "code",
   "execution_count": null,
   "id": "e56d0f13",
   "metadata": {
    "id": "e56d0f13"
   },
   "outputs": [],
   "source": [
    "# !python -m openrlhf.cli.lora_combiner \\\n",
    "#     --model_path DATVO110/Llama-3.2-8B-Instruct-Chat-sft \\\n",
    "#     --lora_path ./checkpoint/Llama-3.2-8B-rm-dpo \\\n",
    "#     --output_path ./checkpoint/Llama-3.2-8B-rm-dpo-combined \\\n",
    "#     --is_rm \\\n",
    "#     --bf16"
   ]
  },
  {
   "cell_type": "code",
   "execution_count": null,
   "id": "Of6b-jiW1cFL",
   "metadata": {
    "id": "Of6b-jiW1cFL"
   },
   "outputs": [],
   "source": []
  },
  {
   "cell_type": "code",
   "execution_count": null,
   "id": "d-SapgAH1U0E",
   "metadata": {
    "id": "d-SapgAH1U0E"
   },
   "outputs": [],
   "source": []
  },
  {
   "cell_type": "code",
   "execution_count": null,
   "id": "zLp7dPyq02Aj",
   "metadata": {
    "colab": {
     "base_uri": "https://localhost:8080/",
     "height": 49,
     "referenced_widgets": [
      "cc3c8c4b676f4bd3a5207997e045a0cd",
      "532c490e624c46b69b937bdd0f59cdb5",
      "edcf9cd13a684c0194541d7a7d672874",
      "9b22207713ad4adc89276cb51d156a21",
      "716b0973761b48aca9b230f91431ad60",
      "affe6ae0c9634222b095b02acddde6d4",
      "adfabc24306f4962953bd09a483a3b0b",
      "61137ca848a54816b1f3eaaf534c3ce3",
      "be484bc1dc1b4e389f167e27ac90015c",
      "25e2ae9387fc4bf69d2ef9f58f6eab9c",
      "e2d5f061f1bd40eeac2a95a764b4d9ce"
     ]
    },
    "executionInfo": {
     "elapsed": 9272,
     "status": "ok",
     "timestamp": 1751890758238,
     "user": {
      "displayName": "Nghe-Nhan Truong",
      "userId": "11787569011463521128"
     },
     "user_tz": -420
    },
    "id": "zLp7dPyq02Aj",
    "outputId": "716e246a-229c-4d98-f024-2be28a3451db"
   },
   "outputs": [
    {
     "data": {
      "application/vnd.jupyter.widget-view+json": {
       "model_id": "cc3c8c4b676f4bd3a5207997e045a0cd",
       "version_major": 2,
       "version_minor": 0
      },
      "text/plain": [
       "Loading checkpoint shards:   0%|          | 0/4 [00:00<?, ?it/s]"
      ]
     },
     "metadata": {},
     "output_type": "display_data"
    }
   ],
   "source": []
  },
  {
   "cell_type": "code",
   "execution_count": null,
   "id": "-VZYbLTXyBz2",
   "metadata": {
    "id": "-VZYbLTXyBz2"
   },
   "outputs": [],
   "source": []
  },
  {
   "cell_type": "markdown",
   "id": "SHTo6_7VwKT3",
   "metadata": {
    "id": "SHTo6_7VwKT3"
   },
   "source": []
  },
  {
   "cell_type": "markdown",
   "id": "159bfa4f",
   "metadata": {
    "id": "159bfa4f"
   },
   "source": [
    "### Push to Hugging Face Hub"
   ]
  },
  {
   "cell_type": "code",
   "execution_count": null,
   "id": "618ef71a",
   "metadata": {
    "id": "618ef71a"
   },
   "outputs": [],
   "source": [
    "from transformers import AutoTokenizer, AutoModelForSequenceClassification\n",
    "\n",
    "ckpt_path = \"/content/checkpoint/Llama-3.2-1B-rm-dpo-combined\"\n",
    "tokenizer = AutoTokenizer.from_pretrained(ckpt_path)\n",
    "model = AutoModelForSequenceClassification.from_pretrained(ckpt_path)"
   ]
  },
  {
   "cell_type": "code",
   "execution_count": null,
   "id": "a7e25970",
   "metadata": {
    "id": "a7e25970"
   },
   "outputs": [],
   "source": [
    "type(model)"
   ]
  },
  {
   "cell_type": "code",
   "execution_count": null,
   "id": "85628d76",
   "metadata": {
    "id": "85628d76"
   },
   "outputs": [],
   "source": [
    "model"
   ]
  },
  {
   "cell_type": "code",
   "execution_count": null,
   "id": "nluP2tt4H7FT",
   "metadata": {
    "id": "nluP2tt4H7FT"
   },
   "outputs": [],
   "source": [
    "from huggingface_hub import login\n",
    "\n"
   ]
  },
  {
   "cell_type": "code",
   "execution_count": null,
   "id": "st0R970FHe1q",
   "metadata": {
    "id": "st0R970FHe1q"
   },
   "outputs": [],
   "source": [
    "model.push_to_hub(\n",
    "    \"DATVO110/Llama-3.2-1B-RM-DPO\",\n",
    "    commit_message=\"Add model ckpt\",\n",
    ")\n"
   ]
  },
  {
   "cell_type": "code",
   "execution_count": null,
   "id": "470292a3",
   "metadata": {
    "id": "470292a3"
   },
   "outputs": [],
   "source": [
    "tokenizer.push_to_hub(\n",
    "    \"DATVO110/Llama-3.2-1B-RM-DPO\",\n",
    "    commit_message=\"Add tokenizer\",\n",
    ")"
   ]
  },
  {
   "cell_type": "markdown",
   "id": "15e54239",
   "metadata": {
    "id": "15e54239"
   },
   "source": [
    "### Test Reward Model"
   ]
  },
  {
   "cell_type": "code",
   "execution_count": null,
   "id": "3aa1222d",
   "metadata": {
    "id": "3aa1222d"
   },
   "outputs": [],
   "source": [
    "inputs = tokenizer(\n",
    "    \"Tại sao bạn lại thích học lập trình?\",\n",
    "    return_tensors=\"pt\",\n",
    "    max_length=2048,\n",
    "    truncation=True,\n",
    ")"
   ]
  },
  {
   "cell_type": "code",
   "execution_count": null,
   "id": "79b08831",
   "metadata": {
    "id": "79b08831"
   },
   "outputs": [],
   "source": [
    "model"
   ]
  },
  {
   "cell_type": "code",
   "execution_count": null,
   "id": "472cd2d8",
   "metadata": {
    "id": "472cd2d8"
   },
   "outputs": [],
   "source": [
    "reward = model.model(**inputs).last_hidden_state\n",
    "reward\n"
   ]
  },
  {
   "cell_type": "code",
   "execution_count": null,
   "id": "06a324d0",
   "metadata": {
    "id": "06a324d0"
   },
   "outputs": [],
   "source": [
    "reward = model.score(reward)[:, -1]\n",
    "reward"
   ]
  }
 ],
 "metadata": {
  "accelerator": "GPU",
  "colab": {
   "gpuType": "T4",
   "machine_shape": "hm",
   "provenance": [],
   "toc_visible": true
  },
  "kernelspec": {
   "display_name": "Python 3",
   "name": "python3"
  },
  "language_info": {
   "codemirror_mode": {
    "name": "ipython",
    "version": 3
   },
   "file_extension": ".py",
   "mimetype": "text/x-python",
   "name": "python",
   "nbconvert_exporter": "python",
   "pygments_lexer": "ipython3",
   "version": "3.11.9"
  },
  "widgets": {
   "application/vnd.jupyter.widget-state+json": {
    "25e2ae9387fc4bf69d2ef9f58f6eab9c": {
     "model_module": "@jupyter-widgets/base",
     "model_module_version": "1.2.0",
     "model_name": "LayoutModel",
     "state": {
      "_model_module": "@jupyter-widgets/base",
      "_model_module_version": "1.2.0",
      "_model_name": "LayoutModel",
      "_view_count": null,
      "_view_module": "@jupyter-widgets/base",
      "_view_module_version": "1.2.0",
      "_view_name": "LayoutView",
      "align_content": null,
      "align_items": null,
      "align_self": null,
      "border": null,
      "bottom": null,
      "display": null,
      "flex": null,
      "flex_flow": null,
      "grid_area": null,
      "grid_auto_columns": null,
      "grid_auto_flow": null,
      "grid_auto_rows": null,
      "grid_column": null,
      "grid_gap": null,
      "grid_row": null,
      "grid_template_areas": null,
      "grid_template_columns": null,
      "grid_template_rows": null,
      "height": null,
      "justify_content": null,
      "justify_items": null,
      "left": null,
      "margin": null,
      "max_height": null,
      "max_width": null,
      "min_height": null,
      "min_width": null,
      "object_fit": null,
      "object_position": null,
      "order": null,
      "overflow": null,
      "overflow_x": null,
      "overflow_y": null,
      "padding": null,
      "right": null,
      "top": null,
      "visibility": null,
      "width": null
     }
    },
    "532c490e624c46b69b937bdd0f59cdb5": {
     "model_module": "@jupyter-widgets/controls",
     "model_module_version": "1.5.0",
     "model_name": "HTMLModel",
     "state": {
      "_dom_classes": [],
      "_model_module": "@jupyter-widgets/controls",
      "_model_module_version": "1.5.0",
      "_model_name": "HTMLModel",
      "_view_count": null,
      "_view_module": "@jupyter-widgets/controls",
      "_view_module_version": "1.5.0",
      "_view_name": "HTMLView",
      "description": "",
      "description_tooltip": null,
      "layout": "IPY_MODEL_affe6ae0c9634222b095b02acddde6d4",
      "placeholder": "​",
      "style": "IPY_MODEL_adfabc24306f4962953bd09a483a3b0b",
      "value": "Loading checkpoint shards: 100%"
     }
    },
    "61137ca848a54816b1f3eaaf534c3ce3": {
     "model_module": "@jupyter-widgets/base",
     "model_module_version": "1.2.0",
     "model_name": "LayoutModel",
     "state": {
      "_model_module": "@jupyter-widgets/base",
      "_model_module_version": "1.2.0",
      "_model_name": "LayoutModel",
      "_view_count": null,
      "_view_module": "@jupyter-widgets/base",
      "_view_module_version": "1.2.0",
      "_view_name": "LayoutView",
      "align_content": null,
      "align_items": null,
      "align_self": null,
      "border": null,
      "bottom": null,
      "display": null,
      "flex": null,
      "flex_flow": null,
      "grid_area": null,
      "grid_auto_columns": null,
      "grid_auto_flow": null,
      "grid_auto_rows": null,
      "grid_column": null,
      "grid_gap": null,
      "grid_row": null,
      "grid_template_areas": null,
      "grid_template_columns": null,
      "grid_template_rows": null,
      "height": null,
      "justify_content": null,
      "justify_items": null,
      "left": null,
      "margin": null,
      "max_height": null,
      "max_width": null,
      "min_height": null,
      "min_width": null,
      "object_fit": null,
      "object_position": null,
      "order": null,
      "overflow": null,
      "overflow_x": null,
      "overflow_y": null,
      "padding": null,
      "right": null,
      "top": null,
      "visibility": null,
      "width": null
     }
    },
    "716b0973761b48aca9b230f91431ad60": {
     "model_module": "@jupyter-widgets/base",
     "model_module_version": "1.2.0",
     "model_name": "LayoutModel",
     "state": {
      "_model_module": "@jupyter-widgets/base",
      "_model_module_version": "1.2.0",
      "_model_name": "LayoutModel",
      "_view_count": null,
      "_view_module": "@jupyter-widgets/base",
      "_view_module_version": "1.2.0",
      "_view_name": "LayoutView",
      "align_content": null,
      "align_items": null,
      "align_self": null,
      "border": null,
      "bottom": null,
      "display": null,
      "flex": null,
      "flex_flow": null,
      "grid_area": null,
      "grid_auto_columns": null,
      "grid_auto_flow": null,
      "grid_auto_rows": null,
      "grid_column": null,
      "grid_gap": null,
      "grid_row": null,
      "grid_template_areas": null,
      "grid_template_columns": null,
      "grid_template_rows": null,
      "height": null,
      "justify_content": null,
      "justify_items": null,
      "left": null,
      "margin": null,
      "max_height": null,
      "max_width": null,
      "min_height": null,
      "min_width": null,
      "object_fit": null,
      "object_position": null,
      "order": null,
      "overflow": null,
      "overflow_x": null,
      "overflow_y": null,
      "padding": null,
      "right": null,
      "top": null,
      "visibility": null,
      "width": null
     }
    },
    "9b22207713ad4adc89276cb51d156a21": {
     "model_module": "@jupyter-widgets/controls",
     "model_module_version": "1.5.0",
     "model_name": "HTMLModel",
     "state": {
      "_dom_classes": [],
      "_model_module": "@jupyter-widgets/controls",
      "_model_module_version": "1.5.0",
      "_model_name": "HTMLModel",
      "_view_count": null,
      "_view_module": "@jupyter-widgets/controls",
      "_view_module_version": "1.5.0",
      "_view_name": "HTMLView",
      "description": "",
      "description_tooltip": null,
      "layout": "IPY_MODEL_25e2ae9387fc4bf69d2ef9f58f6eab9c",
      "placeholder": "​",
      "style": "IPY_MODEL_e2d5f061f1bd40eeac2a95a764b4d9ce",
      "value": " 4/4 [00:05&lt;00:00,  1.34s/it]"
     }
    },
    "adfabc24306f4962953bd09a483a3b0b": {
     "model_module": "@jupyter-widgets/controls",
     "model_module_version": "1.5.0",
     "model_name": "DescriptionStyleModel",
     "state": {
      "_model_module": "@jupyter-widgets/controls",
      "_model_module_version": "1.5.0",
      "_model_name": "DescriptionStyleModel",
      "_view_count": null,
      "_view_module": "@jupyter-widgets/base",
      "_view_module_version": "1.2.0",
      "_view_name": "StyleView",
      "description_width": ""
     }
    },
    "affe6ae0c9634222b095b02acddde6d4": {
     "model_module": "@jupyter-widgets/base",
     "model_module_version": "1.2.0",
     "model_name": "LayoutModel",
     "state": {
      "_model_module": "@jupyter-widgets/base",
      "_model_module_version": "1.2.0",
      "_model_name": "LayoutModel",
      "_view_count": null,
      "_view_module": "@jupyter-widgets/base",
      "_view_module_version": "1.2.0",
      "_view_name": "LayoutView",
      "align_content": null,
      "align_items": null,
      "align_self": null,
      "border": null,
      "bottom": null,
      "display": null,
      "flex": null,
      "flex_flow": null,
      "grid_area": null,
      "grid_auto_columns": null,
      "grid_auto_flow": null,
      "grid_auto_rows": null,
      "grid_column": null,
      "grid_gap": null,
      "grid_row": null,
      "grid_template_areas": null,
      "grid_template_columns": null,
      "grid_template_rows": null,
      "height": null,
      "justify_content": null,
      "justify_items": null,
      "left": null,
      "margin": null,
      "max_height": null,
      "max_width": null,
      "min_height": null,
      "min_width": null,
      "object_fit": null,
      "object_position": null,
      "order": null,
      "overflow": null,
      "overflow_x": null,
      "overflow_y": null,
      "padding": null,
      "right": null,
      "top": null,
      "visibility": null,
      "width": null
     }
    },
    "be484bc1dc1b4e389f167e27ac90015c": {
     "model_module": "@jupyter-widgets/controls",
     "model_module_version": "1.5.0",
     "model_name": "ProgressStyleModel",
     "state": {
      "_model_module": "@jupyter-widgets/controls",
      "_model_module_version": "1.5.0",
      "_model_name": "ProgressStyleModel",
      "_view_count": null,
      "_view_module": "@jupyter-widgets/base",
      "_view_module_version": "1.2.0",
      "_view_name": "StyleView",
      "bar_color": null,
      "description_width": ""
     }
    },
    "cc3c8c4b676f4bd3a5207997e045a0cd": {
     "model_module": "@jupyter-widgets/controls",
     "model_module_version": "1.5.0",
     "model_name": "HBoxModel",
     "state": {
      "_dom_classes": [],
      "_model_module": "@jupyter-widgets/controls",
      "_model_module_version": "1.5.0",
      "_model_name": "HBoxModel",
      "_view_count": null,
      "_view_module": "@jupyter-widgets/controls",
      "_view_module_version": "1.5.0",
      "_view_name": "HBoxView",
      "box_style": "",
      "children": [
       "IPY_MODEL_532c490e624c46b69b937bdd0f59cdb5",
       "IPY_MODEL_edcf9cd13a684c0194541d7a7d672874",
       "IPY_MODEL_9b22207713ad4adc89276cb51d156a21"
      ],
      "layout": "IPY_MODEL_716b0973761b48aca9b230f91431ad60"
     }
    },
    "e2d5f061f1bd40eeac2a95a764b4d9ce": {
     "model_module": "@jupyter-widgets/controls",
     "model_module_version": "1.5.0",
     "model_name": "DescriptionStyleModel",
     "state": {
      "_model_module": "@jupyter-widgets/controls",
      "_model_module_version": "1.5.0",
      "_model_name": "DescriptionStyleModel",
      "_view_count": null,
      "_view_module": "@jupyter-widgets/base",
      "_view_module_version": "1.2.0",
      "_view_name": "StyleView",
      "description_width": ""
     }
    },
    "edcf9cd13a684c0194541d7a7d672874": {
     "model_module": "@jupyter-widgets/controls",
     "model_module_version": "1.5.0",
     "model_name": "FloatProgressModel",
     "state": {
      "_dom_classes": [],
      "_model_module": "@jupyter-widgets/controls",
      "_model_module_version": "1.5.0",
      "_model_name": "FloatProgressModel",
      "_view_count": null,
      "_view_module": "@jupyter-widgets/controls",
      "_view_module_version": "1.5.0",
      "_view_name": "ProgressView",
      "bar_style": "success",
      "description": "",
      "description_tooltip": null,
      "layout": "IPY_MODEL_61137ca848a54816b1f3eaaf534c3ce3",
      "max": 4,
      "min": 0,
      "orientation": "horizontal",
      "style": "IPY_MODEL_be484bc1dc1b4e389f167e27ac90015c",
      "value": 4
     }
    }
   }
  }
 },
 "nbformat": 4,
 "nbformat_minor": 5
}
